{
 "cells": [
  {
   "cell_type": "code",
   "execution_count": 1,
   "metadata": {},
   "outputs": [],
   "source": [
    "import pandas as pd\n",
    "import numpy as np \n",
    "import matplotlib.pyplot as plt\n",
    "from sklearn.model_selection import train_test_split\n",
    "from sklearn.preprocessing import LabelEncoder, OneHotEncoder, LabelBinarizer\n",
    "from sklearn.preprocessing import StandardScaler, MinMaxScaler\n",
    "from sklearn.linear_model import LinearRegression\n",
    "from sklearn.tree import DecisionTreeRegressor\n",
    "from sklearn.metrics import mean_squared_error\n",
    "from sklearn.ensemble import RandomForestClassifier\n",
    "from sklearn.pipeline import Pipeline\n",
    "from sklearn.base import BaseEstimator, TransformerMixin\n",
    "from sklearn.impute import SimpleImputer\n",
    "from sklearn.pipeline import FeatureUnion\n",
    "import seaborn as sns\n",
    "\n",
    "%matplotlib inline"
   ]
  },
  {
   "cell_type": "code",
   "execution_count": 2,
   "metadata": {},
   "outputs": [],
   "source": [
    "label_encoder = LabelEncoder()\n",
    "label_binarizer = LabelBinarizer()\n",
    "standard_scaler = StandardScaler()\n",
    "minmax_scaler = MinMaxScaler()\n"
   ]
  },
  {
   "cell_type": "markdown",
   "metadata": {},
   "source": [
    "## GETTING THE DATA"
   ]
  },
  {
   "cell_type": "code",
   "execution_count": 3,
   "metadata": {},
   "outputs": [],
   "source": [
    "car_data = pd.read_csv(\"car_prices.csv\")"
   ]
  },
  {
   "cell_type": "code",
   "execution_count": 4,
   "metadata": {},
   "outputs": [
    {
     "name": "stdout",
     "output_type": "stream",
     "text": [
      "<class 'pandas.core.frame.DataFrame'>\n",
      "RangeIndex: 3722 entries, 0 to 3721\n",
      "Data columns (total 20 columns):\n",
      " #   Column               Non-Null Count  Dtype  \n",
      "---  ------               --------------  -----  \n",
      " 0   car_id               3722 non-null   object \n",
      " 1   price                3722 non-null   int64  \n",
      " 2   fuel type            3721 non-null   object \n",
      " 3   gear type            3720 non-null   object \n",
      " 4   Make                 3722 non-null   object \n",
      " 5   Model                3722 non-null   object \n",
      " 6   Year of manufacture  3722 non-null   int64  \n",
      " 7   Colour               3717 non-null   object \n",
      " 8   Condition            3722 non-null   object \n",
      " 9   Mileage              3663 non-null   float64\n",
      " 10  Engine Size          3661 non-null   float64\n",
      " 11  Selling Condition    3722 non-null   object \n",
      " 12  Bought Condition     3722 non-null   object \n",
      " 13  car                  1767 non-null   object \n",
      " 14  Trim                 879 non-null    object \n",
      " 15  Drivetrain           838 non-null    object \n",
      " 16  Seats                788 non-null    float64\n",
      " 17  Number of Cylinders  826 non-null    float64\n",
      " 18  Horse Power          755 non-null    float64\n",
      " 19  Registered city      1901 non-null   object \n",
      "dtypes: float64(5), int64(2), object(13)\n",
      "memory usage: 581.7+ KB\n"
     ]
    }
   ],
   "source": [
    "car_data.info()"
   ]
  },
  {
   "cell_type": "markdown",
   "metadata": {},
   "source": [
    "## Sampling a test set and no data snooping\n"
   ]
  },
  {
   "cell_type": "markdown",
   "metadata": {},
   "source": []
  },
  {
   "cell_type": "code",
   "execution_count": null,
   "metadata": {},
   "outputs": [],
   "source": []
  },
  {
   "cell_type": "code",
   "execution_count": 5,
   "metadata": {},
   "outputs": [],
   "source": [
    "copy_data= car_data.copy()"
   ]
  },
  {
   "cell_type": "code",
   "execution_count": 6,
   "metadata": {},
   "outputs": [
    {
     "name": "stdout",
     "output_type": "stream",
     "text": [
      "<class 'pandas.core.frame.DataFrame'>\n",
      "RangeIndex: 3722 entries, 0 to 3721\n",
      "Data columns (total 20 columns):\n",
      " #   Column               Non-Null Count  Dtype  \n",
      "---  ------               --------------  -----  \n",
      " 0   car_id               3722 non-null   object \n",
      " 1   price                3722 non-null   int64  \n",
      " 2   fuel type            3721 non-null   object \n",
      " 3   gear type            3720 non-null   object \n",
      " 4   Make                 3722 non-null   object \n",
      " 5   Model                3722 non-null   object \n",
      " 6   Year of manufacture  3722 non-null   int64  \n",
      " 7   Colour               3717 non-null   object \n",
      " 8   Condition            3722 non-null   object \n",
      " 9   Mileage              3663 non-null   float64\n",
      " 10  Engine Size          3661 non-null   float64\n",
      " 11  Selling Condition    3722 non-null   object \n",
      " 12  Bought Condition     3722 non-null   object \n",
      " 13  car                  1767 non-null   object \n",
      " 14  Trim                 879 non-null    object \n",
      " 15  Drivetrain           838 non-null    object \n",
      " 16  Seats                788 non-null    float64\n",
      " 17  Number of Cylinders  826 non-null    float64\n",
      " 18  Horse Power          755 non-null    float64\n",
      " 19  Registered city      1901 non-null   object \n",
      "dtypes: float64(5), int64(2), object(13)\n",
      "memory usage: 581.7+ KB\n"
     ]
    }
   ],
   "source": [
    "copy_data.info()"
   ]
  },
  {
   "cell_type": "markdown",
   "metadata": {},
   "source": [
    "## EXPLORING THE DATA"
   ]
  },
  {
   "cell_type": "code",
   "execution_count": 7,
   "metadata": {},
   "outputs": [
    {
     "data": {
      "text/html": [
       "<div>\n",
       "<style scoped>\n",
       "    .dataframe tbody tr th:only-of-type {\n",
       "        vertical-align: middle;\n",
       "    }\n",
       "\n",
       "    .dataframe tbody tr th {\n",
       "        vertical-align: top;\n",
       "    }\n",
       "\n",
       "    .dataframe thead th {\n",
       "        text-align: right;\n",
       "    }\n",
       "</style>\n",
       "<table border=\"1\" class=\"dataframe\">\n",
       "  <thead>\n",
       "    <tr style=\"text-align: right;\">\n",
       "      <th></th>\n",
       "      <th>price</th>\n",
       "      <th>Year of manufacture</th>\n",
       "      <th>Mileage</th>\n",
       "      <th>Engine Size</th>\n",
       "      <th>Seats</th>\n",
       "      <th>Number of Cylinders</th>\n",
       "      <th>Horse Power</th>\n",
       "    </tr>\n",
       "  </thead>\n",
       "  <tbody>\n",
       "    <tr>\n",
       "      <th>count</th>\n",
       "      <td>3.722000e+03</td>\n",
       "      <td>3722.000000</td>\n",
       "      <td>3.663000e+03</td>\n",
       "      <td>3.661000e+03</td>\n",
       "      <td>788.000000</td>\n",
       "      <td>826.000000</td>\n",
       "      <td>755.000000</td>\n",
       "    </tr>\n",
       "    <tr>\n",
       "      <th>mean</th>\n",
       "      <td>4.514644e+06</td>\n",
       "      <td>2008.145889</td>\n",
       "      <td>1.949841e+05</td>\n",
       "      <td>1.108062e+04</td>\n",
       "      <td>5.285533</td>\n",
       "      <td>5.157385</td>\n",
       "      <td>208.831788</td>\n",
       "    </tr>\n",
       "    <tr>\n",
       "      <th>std</th>\n",
       "      <td>4.297012e+06</td>\n",
       "      <td>4.205670</td>\n",
       "      <td>1.395755e+05</td>\n",
       "      <td>1.091127e+05</td>\n",
       "      <td>0.800853</td>\n",
       "      <td>1.202795</td>\n",
       "      <td>70.940925</td>\n",
       "    </tr>\n",
       "    <tr>\n",
       "      <th>min</th>\n",
       "      <td>5.500000e+05</td>\n",
       "      <td>1979.000000</td>\n",
       "      <td>1.000000e+00</td>\n",
       "      <td>1.800000e+02</td>\n",
       "      <td>2.000000</td>\n",
       "      <td>4.000000</td>\n",
       "      <td>83.000000</td>\n",
       "    </tr>\n",
       "    <tr>\n",
       "      <th>25%</th>\n",
       "      <td>2.310000e+06</td>\n",
       "      <td>2005.000000</td>\n",
       "      <td>1.173945e+05</td>\n",
       "      <td>2.000000e+03</td>\n",
       "      <td>5.000000</td>\n",
       "      <td>4.000000</td>\n",
       "      <td>158.000000</td>\n",
       "    </tr>\n",
       "    <tr>\n",
       "      <th>50%</th>\n",
       "      <td>3.360000e+06</td>\n",
       "      <td>2008.000000</td>\n",
       "      <td>1.762900e+05</td>\n",
       "      <td>2.500000e+03</td>\n",
       "      <td>5.000000</td>\n",
       "      <td>6.000000</td>\n",
       "      <td>203.000000</td>\n",
       "    </tr>\n",
       "    <tr>\n",
       "      <th>75%</th>\n",
       "      <td>5.036250e+06</td>\n",
       "      <td>2011.000000</td>\n",
       "      <td>2.453815e+05</td>\n",
       "      <td>3.500000e+03</td>\n",
       "      <td>5.000000</td>\n",
       "      <td>6.000000</td>\n",
       "      <td>268.000000</td>\n",
       "    </tr>\n",
       "    <tr>\n",
       "      <th>max</th>\n",
       "      <td>6.240000e+07</td>\n",
       "      <td>2022.000000</td>\n",
       "      <td>2.456318e+06</td>\n",
       "      <td>3.500000e+06</td>\n",
       "      <td>8.000000</td>\n",
       "      <td>8.000000</td>\n",
       "      <td>585.000000</td>\n",
       "    </tr>\n",
       "  </tbody>\n",
       "</table>\n",
       "</div>"
      ],
      "text/plain": [
       "              price  Year of manufacture       Mileage   Engine Size  \\\n",
       "count  3.722000e+03          3722.000000  3.663000e+03  3.661000e+03   \n",
       "mean   4.514644e+06          2008.145889  1.949841e+05  1.108062e+04   \n",
       "std    4.297012e+06             4.205670  1.395755e+05  1.091127e+05   \n",
       "min    5.500000e+05          1979.000000  1.000000e+00  1.800000e+02   \n",
       "25%    2.310000e+06          2005.000000  1.173945e+05  2.000000e+03   \n",
       "50%    3.360000e+06          2008.000000  1.762900e+05  2.500000e+03   \n",
       "75%    5.036250e+06          2011.000000  2.453815e+05  3.500000e+03   \n",
       "max    6.240000e+07          2022.000000  2.456318e+06  3.500000e+06   \n",
       "\n",
       "            Seats  Number of Cylinders  Horse Power  \n",
       "count  788.000000           826.000000   755.000000  \n",
       "mean     5.285533             5.157385   208.831788  \n",
       "std      0.800853             1.202795    70.940925  \n",
       "min      2.000000             4.000000    83.000000  \n",
       "25%      5.000000             4.000000   158.000000  \n",
       "50%      5.000000             6.000000   203.000000  \n",
       "75%      5.000000             6.000000   268.000000  \n",
       "max      8.000000             8.000000   585.000000  "
      ]
     },
     "execution_count": 7,
     "metadata": {},
     "output_type": "execute_result"
    }
   ],
   "source": [
    "car_data.describe()"
   ]
  },
  {
   "cell_type": "code",
   "execution_count": 8,
   "metadata": {},
   "outputs": [
    {
     "data": {
      "text/html": [
       "<div>\n",
       "<style scoped>\n",
       "    .dataframe tbody tr th:only-of-type {\n",
       "        vertical-align: middle;\n",
       "    }\n",
       "\n",
       "    .dataframe tbody tr th {\n",
       "        vertical-align: top;\n",
       "    }\n",
       "\n",
       "    .dataframe thead th {\n",
       "        text-align: right;\n",
       "    }\n",
       "</style>\n",
       "<table border=\"1\" class=\"dataframe\">\n",
       "  <thead>\n",
       "    <tr style=\"text-align: right;\">\n",
       "      <th></th>\n",
       "      <th>car_id</th>\n",
       "      <th>price</th>\n",
       "      <th>fuel type</th>\n",
       "      <th>gear type</th>\n",
       "      <th>Make</th>\n",
       "      <th>Model</th>\n",
       "      <th>Year of manufacture</th>\n",
       "      <th>Colour</th>\n",
       "      <th>Condition</th>\n",
       "      <th>Mileage</th>\n",
       "      <th>Engine Size</th>\n",
       "      <th>Selling Condition</th>\n",
       "      <th>Bought Condition</th>\n",
       "      <th>car</th>\n",
       "      <th>Trim</th>\n",
       "      <th>Drivetrain</th>\n",
       "      <th>Seats</th>\n",
       "      <th>Number of Cylinders</th>\n",
       "      <th>Horse Power</th>\n",
       "      <th>Registered city</th>\n",
       "    </tr>\n",
       "  </thead>\n",
       "  <tbody>\n",
       "    <tr>\n",
       "      <th>0</th>\n",
       "      <td>icwAaDOmX573WiRRnLFPT237</td>\n",
       "      <td>2812500</td>\n",
       "      <td>Petrol</td>\n",
       "      <td>Automatic</td>\n",
       "      <td>Toyota</td>\n",
       "      <td>Corolla</td>\n",
       "      <td>2004</td>\n",
       "      <td>Silver</td>\n",
       "      <td>Nigerian Used</td>\n",
       "      <td>251732.0</td>\n",
       "      <td>1800.0</td>\n",
       "      <td>Registered</td>\n",
       "      <td>Registered</td>\n",
       "      <td>NaN</td>\n",
       "      <td>NaN</td>\n",
       "      <td>NaN</td>\n",
       "      <td>NaN</td>\n",
       "      <td>NaN</td>\n",
       "      <td>NaN</td>\n",
       "      <td>NaN</td>\n",
       "    </tr>\n",
       "    <tr>\n",
       "      <th>1</th>\n",
       "      <td>ByZ3NlPy2x0arAIyrKazClUS</td>\n",
       "      <td>5000000</td>\n",
       "      <td>Petrol</td>\n",
       "      <td>Automatic</td>\n",
       "      <td>Acura</td>\n",
       "      <td>MDX</td>\n",
       "      <td>2007</td>\n",
       "      <td>Green</td>\n",
       "      <td>Foreign Used</td>\n",
       "      <td>224589.0</td>\n",
       "      <td>3700.0</td>\n",
       "      <td>Imported</td>\n",
       "      <td>Imported</td>\n",
       "      <td>SUV</td>\n",
       "      <td>NaN</td>\n",
       "      <td>NaN</td>\n",
       "      <td>NaN</td>\n",
       "      <td>NaN</td>\n",
       "      <td>NaN</td>\n",
       "      <td>NaN</td>\n",
       "    </tr>\n",
       "    <tr>\n",
       "      <th>2</th>\n",
       "      <td>2zG6Mh3kwyoTvWoeKHkV1oFH</td>\n",
       "      <td>7592000</td>\n",
       "      <td>Petrol</td>\n",
       "      <td>Automatic</td>\n",
       "      <td>Acura</td>\n",
       "      <td>TL</td>\n",
       "      <td>2012</td>\n",
       "      <td>White</td>\n",
       "      <td>Foreign Used</td>\n",
       "      <td>111334.0</td>\n",
       "      <td>3500.0</td>\n",
       "      <td>Imported</td>\n",
       "      <td>Imported</td>\n",
       "      <td>Sedan</td>\n",
       "      <td>SH-AWD Automatic Tech Package</td>\n",
       "      <td>All Wheel</td>\n",
       "      <td>5.0</td>\n",
       "      <td>6.0</td>\n",
       "      <td>309.0</td>\n",
       "      <td>NaN</td>\n",
       "    </tr>\n",
       "    <tr>\n",
       "      <th>3</th>\n",
       "      <td>7APLHOPlI93qsYK0ST4D4wB2</td>\n",
       "      <td>9880000</td>\n",
       "      <td>Petrol</td>\n",
       "      <td>Automatic</td>\n",
       "      <td>Land Rover</td>\n",
       "      <td>Range Rover</td>\n",
       "      <td>2012</td>\n",
       "      <td>Gray</td>\n",
       "      <td>Nigerian Used</td>\n",
       "      <td>72682.0</td>\n",
       "      <td>4000.0</td>\n",
       "      <td>Registered</td>\n",
       "      <td>Imported</td>\n",
       "      <td>SUV</td>\n",
       "      <td>NaN</td>\n",
       "      <td>NaN</td>\n",
       "      <td>NaN</td>\n",
       "      <td>NaN</td>\n",
       "      <td>NaN</td>\n",
       "      <td>NaN</td>\n",
       "    </tr>\n",
       "    <tr>\n",
       "      <th>4</th>\n",
       "      <td>zIrIDPJLd46eRQf9JFacc0e</td>\n",
       "      <td>4160000</td>\n",
       "      <td>Petrol</td>\n",
       "      <td>Automatic</td>\n",
       "      <td>Ford</td>\n",
       "      <td>Edge</td>\n",
       "      <td>2013</td>\n",
       "      <td>Gray</td>\n",
       "      <td>Nigerian Used</td>\n",
       "      <td>92118.0</td>\n",
       "      <td>3500.0</td>\n",
       "      <td>Registered</td>\n",
       "      <td>Registered</td>\n",
       "      <td>SUV</td>\n",
       "      <td>NaN</td>\n",
       "      <td>NaN</td>\n",
       "      <td>NaN</td>\n",
       "      <td>NaN</td>\n",
       "      <td>NaN</td>\n",
       "      <td>Lagos</td>\n",
       "    </tr>\n",
       "  </tbody>\n",
       "</table>\n",
       "</div>"
      ],
      "text/plain": [
       "                     car_id    price fuel type  gear type        Make  \\\n",
       "0  icwAaDOmX573WiRRnLFPT237  2812500    Petrol  Automatic      Toyota   \n",
       "1  ByZ3NlPy2x0arAIyrKazClUS  5000000    Petrol  Automatic       Acura   \n",
       "2  2zG6Mh3kwyoTvWoeKHkV1oFH  7592000    Petrol  Automatic       Acura   \n",
       "3  7APLHOPlI93qsYK0ST4D4wB2  9880000    Petrol  Automatic  Land Rover   \n",
       "4   zIrIDPJLd46eRQf9JFacc0e  4160000    Petrol  Automatic        Ford   \n",
       "\n",
       "         Model  Year of manufacture  Colour      Condition   Mileage  \\\n",
       "0      Corolla                 2004  Silver  Nigerian Used  251732.0   \n",
       "1          MDX                 2007   Green   Foreign Used  224589.0   \n",
       "2           TL                 2012   White   Foreign Used  111334.0   \n",
       "3  Range Rover                 2012    Gray  Nigerian Used   72682.0   \n",
       "4         Edge                 2013    Gray  Nigerian Used   92118.0   \n",
       "\n",
       "   Engine Size Selling Condition Bought Condition    car  \\\n",
       "0       1800.0        Registered       Registered    NaN   \n",
       "1       3700.0          Imported         Imported    SUV   \n",
       "2       3500.0          Imported         Imported  Sedan   \n",
       "3       4000.0        Registered         Imported    SUV   \n",
       "4       3500.0        Registered       Registered    SUV   \n",
       "\n",
       "                            Trim Drivetrain  Seats  Number of Cylinders  \\\n",
       "0                            NaN        NaN    NaN                  NaN   \n",
       "1                            NaN        NaN    NaN                  NaN   \n",
       "2  SH-AWD Automatic Tech Package  All Wheel    5.0                  6.0   \n",
       "3                            NaN        NaN    NaN                  NaN   \n",
       "4                            NaN        NaN    NaN                  NaN   \n",
       "\n",
       "   Horse Power Registered city  \n",
       "0          NaN             NaN  \n",
       "1          NaN             NaN  \n",
       "2        309.0             NaN  \n",
       "3          NaN             NaN  \n",
       "4          NaN           Lagos  "
      ]
     },
     "execution_count": 8,
     "metadata": {},
     "output_type": "execute_result"
    }
   ],
   "source": [
    "car_data.head()"
   ]
  },
  {
   "cell_type": "markdown",
   "metadata": {},
   "source": [
    "## Histogram of continous data"
   ]
  },
  {
   "cell_type": "markdown",
   "metadata": {},
   "source": [
    "### Removing outliers"
   ]
  },
  {
   "cell_type": "code",
   "execution_count": 9,
   "metadata": {},
   "outputs": [],
   "source": [
    "q = car_data['Mileage'].quantile(0.99)\n",
    "copy_data = copy_data[(copy_data['Mileage']) < q]"
   ]
  },
  {
   "cell_type": "code",
   "execution_count": 10,
   "metadata": {},
   "outputs": [
    {
     "data": {
      "image/png": "[encoded data removed]",
      "text/plain": [
       "<Figure size 576x1728 with 4 Axes>"
      ]
     },
     "metadata": {
      "needs_background": "light"
     },
     "output_type": "display_data"
    }
   ],
   "source": [
    "columns = [\"price\",\"Year of manufacture\", \"Mileage\", \"Engine Size\"]\n",
    "\n",
    "fig, axes = plt.subplots(nrows= len(columns), ncols=1, figsize= (8, 6*len(columns)))\n",
    "\n",
    "for i, column in enumerate(columns):\n",
    "    ax = axes[i]\n",
    "    ax.hist(copy_data[column])\n",
    "    ax.set_xlabel(columns[i])\n",
    "plt.tight_layout()\n",
    "\n",
    "\n",
    "\n",
    "# Display the plot\n",
    "plt.show()  "
   ]
  },
  {
   "cell_type": "code",
   "execution_count": 11,
   "metadata": {},
   "outputs": [
    {
     "name": "stderr",
     "output_type": "stream",
     "text": [
      "c:\\ProgramData\\Anaconda3\\lib\\site-packages\\seaborn\\distributions.py:2619: FutureWarning: `distplot` is a deprecated function and will be removed in a future version. Please adapt your code to use either `displot` (a figure-level function with similar flexibility) or `histplot` (an axes-level function for histograms).\n",
      "  warnings.warn(msg, FutureWarning)\n"
     ]
    },
    {
     "data": {
      "image/png": "[encoded data removed]",
      "text/plain": [
       "<Figure size 432x288 with 1 Axes>"
      ]
     },
     "metadata": {
      "needs_background": "light"
     },
     "output_type": "display_data"
    },
    {
     "name": "stderr",
     "output_type": "stream",
     "text": [
      "c:\\ProgramData\\Anaconda3\\lib\\site-packages\\seaborn\\distributions.py:2619: FutureWarning: `distplot` is a deprecated function and will be removed in a future version. Please adapt your code to use either `displot` (a figure-level function with similar flexibility) or `histplot` (an axes-level function for histograms).\n",
      "  warnings.warn(msg, FutureWarning)\n"
     ]
    },
    {
     "data": {
      "image/png": "[encoded data removed]",
      "text/plain": [
       "<Figure size 432x288 with 1 Axes>"
      ]
     },
     "metadata": {
      "needs_background": "light"
     },
     "output_type": "display_data"
    },
    {
     "name": "stderr",
     "output_type": "stream",
     "text": [
      "c:\\ProgramData\\Anaconda3\\lib\\site-packages\\seaborn\\distributions.py:2619: FutureWarning: `distplot` is a deprecated function and will be removed in a future version. Please adapt your code to use either `displot` (a figure-level function with similar flexibility) or `histplot` (an axes-level function for histograms).\n",
      "  warnings.warn(msg, FutureWarning)\n"
     ]
    },
    {
     "data": {
      "image/png": "[encoded data removed]",
      "text/plain": [
       "<Figure size 432x288 with 1 Axes>"
      ]
     },
     "metadata": {
      "needs_background": "light"
     },
     "output_type": "display_data"
    },
    {
     "name": "stderr",
     "output_type": "stream",
     "text": [
      "c:\\ProgramData\\Anaconda3\\lib\\site-packages\\seaborn\\distributions.py:2619: FutureWarning: `distplot` is a deprecated function and will be removed in a future version. Please adapt your code to use either `displot` (a figure-level function with similar flexibility) or `histplot` (an axes-level function for histograms).\n",
      "  warnings.warn(msg, FutureWarning)\n"
     ]
    },
    {
     "data": {
      "image/png": "[encoded data removed]",
      "text/plain": [
       "<Figure size 432x288 with 1 Axes>"
      ]
     },
     "metadata": {
      "needs_background": "light"
     },
     "output_type": "display_data"
    }
   ],
   "source": [
    "columns = [\"price\",\"Year of manufacture\", \"Mileage\", \"Engine Size\"]\n",
    "\n",
    "for column in columns:\n",
    "    sns.distplot(copy_data[column])\n",
    "    plt.show()  \n",
    "\n",
    "\n",
    "# Display the plot\n"
   ]
  },
  {
   "cell_type": "markdown",
   "metadata": {},
   "source": [
    "### LOG TRANSFORMATION HISTOGRAM\n"
   ]
  },
  {
   "cell_type": "code",
   "execution_count": 12,
   "metadata": {},
   "outputs": [
    {
     "data": {
      "image/png": "[encoded data removed]",
      "text/plain": [
       "<Figure size 576x1728 with 4 Axes>"
      ]
     },
     "metadata": {
      "needs_background": "light"
     },
     "output_type": "display_data"
    }
   ],
   "source": [
    "columns = [\"price\",\"Year of manufacture\", \"Mileage\", \"Engine Size\"]\n",
    "\n",
    "fig, axes = plt.subplots(nrows= len(columns), ncols=1, figsize= (8, 6*len(columns)))\n",
    "\n",
    "for i, column in enumerate(columns):\n",
    "    ax = axes[i]\n",
    "    ax.hist(np.log(copy_data[column]))\n",
    "    ax.set_xlabel(columns[i])\n",
    "plt.tight_layout()\n",
    "\n",
    "\n",
    "\n",
    "# Display the plot\n",
    "plt.show()  "
   ]
  },
  {
   "cell_type": "markdown",
   "metadata": {},
   "source": [
    "###### car-id: this is the id of the car, which i feel wont describebe anything about the car so needs to be removed \\n\n",
    "###### price- That is our target. it does not have any null value and it is an integer\n",
    "###### fuel_type: It has one missing vlue, which would be removed\n",
    "###### gear_type: It has one missing vlue, and anobject\n",
    "###### color- it has 4 missing values, put in the mode values in each one\n",
    "###### mileage- it has 45 missing values, and it is a flot, so we can fill in with median\n",
    "###### Engine size- als have 45+ missing values. it can be filled with median\n",
    "###### car: has a lot of missing value and it is an object\n",
    "###### trim, drivetrain,seats,number_of_cylinder,horse power, registered city all have a lot of missing values\n",
    "###### i would remove from car to registered city\n",
    "\n",
    "\n",
    "###### Log of price transformation\n",
    "######  Log all numerical data except from mileage"
   ]
  },
  {
   "cell_type": "markdown",
   "metadata": {},
   "source": [
    "###### Stochastic noise is often not unavoidable. All you have to do is build robost models, and you can use sross validation technique to know if your data is suspectible to noise.   Robust models like decision tree can reduce outliers"
   ]
  },
  {
   "cell_type": "markdown",
   "metadata": {},
   "source": [
    "###### removing outliers"
   ]
  },
  {
   "cell_type": "code",
   "execution_count": null,
   "metadata": {},
   "outputs": [],
   "source": []
  },
  {
   "cell_type": "code",
   "execution_count": 13,
   "metadata": {},
   "outputs": [
    {
     "name": "stderr",
     "output_type": "stream",
     "text": [
      "c:\\ProgramData\\Anaconda3\\lib\\site-packages\\seaborn\\distributions.py:2619: FutureWarning: `distplot` is a deprecated function and will be removed in a future version. Please adapt your code to use either `displot` (a figure-level function with similar flexibility) or `histplot` (an axes-level function for histograms).\n",
      "  warnings.warn(msg, FutureWarning)\n"
     ]
    },
    {
     "data": {
      "image/png": "[encoded data removed]",
      "text/plain": [
       "<Figure size 432x288 with 1 Axes>"
      ]
     },
     "metadata": {
      "needs_background": "light"
     },
     "output_type": "display_data"
    },
    {
     "name": "stderr",
     "output_type": "stream",
     "text": [
      "c:\\ProgramData\\Anaconda3\\lib\\site-packages\\seaborn\\distributions.py:2619: FutureWarning: `distplot` is a deprecated function and will be removed in a future version. Please adapt your code to use either `displot` (a figure-level function with similar flexibility) or `histplot` (an axes-level function for histograms).\n",
      "  warnings.warn(msg, FutureWarning)\n"
     ]
    },
    {
     "data": {
      "image/png": "[encoded data removed]",
      "text/plain": [
       "<Figure size 432x288 with 1 Axes>"
      ]
     },
     "metadata": {
      "needs_background": "light"
     },
     "output_type": "display_data"
    },
    {
     "name": "stderr",
     "output_type": "stream",
     "text": [
      "c:\\ProgramData\\Anaconda3\\lib\\site-packages\\seaborn\\distributions.py:2619: FutureWarning: `distplot` is a deprecated function and will be removed in a future version. Please adapt your code to use either `displot` (a figure-level function with similar flexibility) or `histplot` (an axes-level function for histograms).\n",
      "  warnings.warn(msg, FutureWarning)\n"
     ]
    },
    {
     "data": {
      "image/png": "[encoded data removed]",
      "text/plain": [
       "<Figure size 432x288 with 1 Axes>"
      ]
     },
     "metadata": {
      "needs_background": "light"
     },
     "output_type": "display_data"
    },
    {
     "name": "stderr",
     "output_type": "stream",
     "text": [
      "c:\\ProgramData\\Anaconda3\\lib\\site-packages\\seaborn\\distributions.py:2619: FutureWarning: `distplot` is a deprecated function and will be removed in a future version. Please adapt your code to use either `displot` (a figure-level function with similar flexibility) or `histplot` (an axes-level function for histograms).\n",
      "  warnings.warn(msg, FutureWarning)\n"
     ]
    },
    {
     "data": {
      "image/png": "[encoded data removed]",
      "text/plain": [
       "<Figure size 432x288 with 1 Axes>"
      ]
     },
     "metadata": {
      "needs_background": "light"
     },
     "output_type": "display_data"
    }
   ],
   "source": [
    "columns = [\"price\",\"Year of manufacture\", \"Mileage\", \"Engine Size\"]\n",
    "\n",
    "for column in columns:\n",
    "    sns.distplot(np.log(copy_data[column]))\n",
    "    plt.show()  \n"
   ]
  },
  {
   "cell_type": "code",
   "execution_count": 14,
   "metadata": {},
   "outputs": [
    {
     "name": "stdout",
     "output_type": "stream",
     "text": [
      "                        price  Year of manufacture   Mileage  Engine Size  \\\n",
      "price                1.000000             0.546425 -0.300689     0.002445   \n",
      "Year of manufacture  0.546425             1.000000 -0.420226     0.001899   \n",
      "Mileage             -0.300689            -0.420226  1.000000    -0.008788   \n",
      "Engine Size          0.002445             0.001899 -0.008788     1.000000   \n",
      "Seats                0.087512            -0.057537  0.007521     0.338944   \n",
      "Number of Cylinders  0.206096            -0.102895 -0.003831     0.837542   \n",
      "Horse Power          0.404058             0.201494 -0.112645     0.836768   \n",
      "\n",
      "                        Seats  Number of Cylinders  Horse Power  \n",
      "price                0.087512             0.206096     0.404058  \n",
      "Year of manufacture -0.057537            -0.102895     0.201494  \n",
      "Mileage              0.007521            -0.003831    -0.112645  \n",
      "Engine Size          0.338944             0.837542     0.836768  \n",
      "Seats                1.000000             0.376491     0.313177  \n",
      "Number of Cylinders  0.376491             1.000000     0.843457  \n",
      "Horse Power          0.313177             0.843457     1.000000  \n"
     ]
    }
   ],
   "source": [
    "## CORELLATION\n",
    "numerical_columns = copy_data.select_dtypes(include = ['int64', 'float64'])\n",
    "correlation_columns = numerical_columns.corr()\n",
    "print(correlation_columns)"
   ]
  },
  {
   "cell_type": "code",
   "execution_count": 15,
   "metadata": {},
   "outputs": [
    {
     "name": "stdout",
     "output_type": "stream",
     "text": [
      "                        price  Year of manufacture   Mileage  Engine Size  \\\n",
      "price                1.000000             0.685183 -0.286341     0.111652   \n",
      "Year of manufacture  0.685183             1.000000 -0.361988    -0.024887   \n",
      "Mileage             -0.286341            -0.361988  1.000000    -0.007352   \n",
      "Engine Size          0.111652            -0.024887 -0.007352     1.000000   \n",
      "Seats                0.065007            -0.059591 -0.011949     0.318630   \n",
      "Number of Cylinders  0.223339            -0.107773  0.011752     0.823393   \n",
      "Horse Power          0.430841             0.213734 -0.092818     0.853218   \n",
      "\n",
      "                        Seats  Number of Cylinders  Horse Power  \n",
      "price                0.065007             0.223339     0.430841  \n",
      "Year of manufacture -0.059591            -0.107773     0.213734  \n",
      "Mileage             -0.011949             0.011752    -0.092818  \n",
      "Engine Size          0.318630             0.823393     0.853218  \n",
      "Seats                1.000000             0.362751     0.309545  \n",
      "Number of Cylinders  0.362751             1.000000     0.831009  \n",
      "Horse Power          0.309545             0.831009     1.000000  \n"
     ]
    }
   ],
   "source": [
    "## CORELLATION WITH LOG\n",
    "numerical_columns = copy_data.select_dtypes(include = ['int64', 'float64'])\n",
    "correlation_columns = np.log(numerical_columns).corr()\n",
    "print(correlation_columns)"
   ]
  },
  {
   "cell_type": "code",
   "execution_count": 16,
   "metadata": {},
   "outputs": [],
   "source": [
    "## remove engine size\n",
    "## remove seats\n",
    "## Add power/cylinder\n",
    "## Log all numerical values"
   ]
  },
  {
   "cell_type": "markdown",
   "metadata": {},
   "source": [
    "### PREPARING THE DATA"
   ]
  },
  {
   "cell_type": "code",
   "execution_count": 17,
   "metadata": {},
   "outputs": [
    {
     "name": "stdout",
     "output_type": "stream",
     "text": [
      "3120  column car_id\n",
      "4  column fuel type\n",
      "3  column gear type\n",
      "50  column Make\n",
      "325  column Model\n",
      "18  column Colour\n",
      "3  column Condition\n",
      "3  column Selling Condition\n",
      "3  column Bought Condition\n",
      "15  column car\n",
      "388  column Trim\n",
      "6  column Drivetrain\n",
      "71  column Registered city\n"
     ]
    }
   ],
   "source": [
    "object_columns = car_data.select_dtypes(exclude=['int64', 'float64'])\n",
    "for column in object_columns:\n",
    "    print(f\"{car_data[column].nunique()}  column {column}\")\n"
   ]
  },
  {
   "cell_type": "code",
   "execution_count": 18,
   "metadata": {},
   "outputs": [
    {
     "name": "stdout",
     "output_type": "stream",
     "text": [
      "Petrol      3670\n",
      "Hybrid        36\n",
      "Diesel        14\n",
      "Electric       1\n",
      "Name: fuel type, dtype: int64\n",
      "Automatic    3486\n",
      "Manual        202\n",
      "CVT            32\n",
      "Name: gear type, dtype: int64\n",
      "Nigerian Used    2813\n",
      "Foreign Used      907\n",
      "Brand New           2\n",
      "Name: Condition, dtype: int64\n",
      "Imported      1939\n",
      "Registered    1658\n",
      "Brand new      125\n",
      "Name: Bought Condition, dtype: int64\n",
      "Registered    2813\n",
      "Imported       907\n",
      "Brand new        2\n",
      "Name: Selling Condition, dtype: int64\n"
     ]
    }
   ],
   "source": [
    "needed = ['fuel type', 'gear type', 'Condition' , 'Bought Condition', 'Selling Condition']\n",
    "for need in needed:\n",
    "    print( car_data[need].value_counts())"
   ]
  },
  {
   "cell_type": "code",
   "execution_count": 19,
   "metadata": {},
   "outputs": [],
   "source": [
    "\n",
    "\n",
    "\n",
    "categories_to_remove = {\n",
    "    \"fuel type\": [\"Electric\"],\n",
    "    \"Condition\": [\"Brand New\"],\n",
    "    \"Selling Condition\": [\"Brand New\"],\n",
    "    # Add more columns and categories as needed\n",
    "}\n",
    "\n",
    "for column_name, categories in categories_to_remove.items():\n",
    "    mask = ~car_data[column_name].isin(categories)\n",
    "    car_data = car_data[mask]\n"
   ]
  },
  {
   "cell_type": "code",
   "execution_count": 20,
   "metadata": {},
   "outputs": [
    {
     "name": "stdout",
     "output_type": "stream",
     "text": [
      "Petrol    3668\n",
      "Hybrid      36\n",
      "Diesel      14\n",
      "Name: fuel type, dtype: int64\n",
      "Automatic    3484\n",
      "Manual        201\n",
      "CVT            32\n",
      "Name: gear type, dtype: int64\n",
      "Nigerian Used    2812\n",
      "Foreign Used      907\n",
      "Name: Condition, dtype: int64\n",
      "Imported      1938\n",
      "Registered    1656\n",
      "Brand new      125\n",
      "Name: Bought Condition, dtype: int64\n",
      "Registered    2812\n",
      "Imported       907\n",
      "Name: Selling Condition, dtype: int64\n"
     ]
    }
   ],
   "source": [
    "needed = ['fuel type', 'gear type', 'Condition' , 'Bought Condition', 'Selling Condition']\n",
    "for need in needed:\n",
    "    print( car_data[need].value_counts())"
   ]
  },
  {
   "cell_type": "code",
   "execution_count": 21,
   "metadata": {},
   "outputs": [
    {
     "data": {
      "text/plain": [
       "<AxesSubplot:xlabel='fuel type', ylabel='count'>"
      ]
     },
     "execution_count": 21,
     "metadata": {},
     "output_type": "execute_result"
    },
    {
     "data": {
      "image/png": "[encoded data removed]",
      "text/plain": [
       "<Figure size 432x288 with 1 Axes>"
      ]
     },
     "metadata": {
      "needs_background": "light"
     },
     "output_type": "display_data"
    }
   ],
   "source": [
    "sns.countplot(x= car_data['fuel type'])"
   ]
  },
  {
   "cell_type": "code",
   "execution_count": 22,
   "metadata": {},
   "outputs": [
    {
     "data": {
      "text/plain": [
       "<AxesSubplot:xlabel='gear type', ylabel='count'>"
      ]
     },
     "execution_count": 22,
     "metadata": {},
     "output_type": "execute_result"
    },
    {
     "data": {
      "image/png": "[encoded data removed]",
      "text/plain": [
       "<Figure size 432x288 with 1 Axes>"
      ]
     },
     "metadata": {
      "needs_background": "light"
     },
     "output_type": "display_data"
    }
   ],
   "source": [
    "sns.countplot(x= car_data['gear type'])"
   ]
  },
  {
   "cell_type": "code",
   "execution_count": 23,
   "metadata": {},
   "outputs": [
    {
     "data": {
      "text/plain": [
       "<AxesSubplot:xlabel='Condition', ylabel='count'>"
      ]
     },
     "execution_count": 23,
     "metadata": {},
     "output_type": "execute_result"
    },
    {
     "data": {
      "image/png": "[encoded data removed]",
      "text/plain": [
       "<Figure size 432x288 with 1 Axes>"
      ]
     },
     "metadata": {
      "needs_background": "light"
     },
     "output_type": "display_data"
    }
   ],
   "source": [
    "sns.countplot(x= car_data['Condition'])"
   ]
  },
  {
   "cell_type": "code",
   "execution_count": 24,
   "metadata": {},
   "outputs": [
    {
     "data": {
      "text/plain": [
       "<AxesSubplot:xlabel='Selling Condition', ylabel='count'>"
      ]
     },
     "execution_count": 24,
     "metadata": {},
     "output_type": "execute_result"
    },
    {
     "data": {
      "image/png": "[encoded data removed]",
      "text/plain": [
       "<Figure size 432x288 with 1 Axes>"
      ]
     },
     "metadata": {
      "needs_background": "light"
     },
     "output_type": "display_data"
    }
   ],
   "source": [
    "sns.countplot(x= car_data['Selling Condition'])"
   ]
  },
  {
   "cell_type": "code",
   "execution_count": 25,
   "metadata": {},
   "outputs": [
    {
     "data": {
      "text/plain": [
       "<AxesSubplot:xlabel='Bought Condition', ylabel='count'>"
      ]
     },
     "execution_count": 25,
     "metadata": {},
     "output_type": "execute_result"
    },
    {
     "data": {
      "image/png": "[encoded data removed]",
      "text/plain": [
       "<Figure size 432x288 with 1 Axes>"
      ]
     },
     "metadata": {
      "needs_background": "light"
     },
     "output_type": "display_data"
    }
   ],
   "source": [
    "sns.countplot(x= car_data['Bought Condition'])"
   ]
  },
  {
   "cell_type": "code",
   "execution_count": 26,
   "metadata": {},
   "outputs": [],
   "source": [
    "\n",
    "# def fill_in_object_value(column_list, data):\n",
    "#     for column_name in column_list:\n",
    "#         try:\n",
    "#             mode = data[column_name].mode()[0]\n",
    "#             data[column_name].fillna(mode, inplace = True)\n",
    "#         except IndexError:\n",
    "#            continue\n",
    "#     return data\n",
    "# def fill_in_numeric_value(column_list, data):\n",
    "#     for column_name in column_list:\n",
    "\n",
    "#         try:\n",
    "#             mean_value = data[column_name].mean()\n",
    "#             data[column_name].fillna(mean_value, inplace=True) \n",
    "             \n",
    "#         except IndexError:\n",
    "#             continue\n",
    "\n",
    "    \n",
    "    # return data\n",
    "# def remove_column(data, column_list=[]):\n",
    "#     for column in column_list:\n",
    "#         try:\n",
    "#             data.drop(column, axis=1, inplace =True)\n",
    "#         except KeyError:\n",
    "#             continue\n",
    "#     return data\n",
    "        \n",
    "# def decompose_object(column_name, data):\n",
    "\n",
    "#     data[column_name] = data[column_name].astype(str)\n",
    "\n",
    "#     label_binarizer = LabelBinarizer()\n",
    "#     one_hot_encoded = label_binarizer.fit_transform(data[column_name])\n",
    "\n",
    "#     encoded_columns = [f'encoded_{class_}' for class_ in label_binarizer.classes_]\n",
    "#     df_encoded = pd.DataFrame(one_hot_encoded, columns=encoded_columns)\n",
    "\n",
    "#     df_final = pd.concat([data, df_encoded], axis=1)\n",
    "\n",
    "#     return df_final\n",
    "\n",
    "# def aggregate_features(data ):\n",
    "#     data[\"power/cylinder\"] = data[\"Horse Power\"]/ data[\"Number of Cylinders\"]\n",
    "#     return data\n",
    "\n",
    "\n",
    "# def log_feature(column_list, data):\n",
    "#     for column in column_list:\n",
    "#         data[column] = np.log(data[column])\n",
    "#     return data\n",
    "\n",
    "\n",
    "# def prepare_scale_binarizer (numerical_columns, object_columns, data):\n",
    "#     scaled_column = standard_scaler.fit_transform(numerical_columns)\n",
    "#     scaled_numeric_df = pd.DataFrame(scaled_column, columns = numerical_columns.columns)\n",
    "\n",
    "\n",
    "#     binarized_labels_dfs = []\n",
    "#     for col in object_columns.columns:\n",
    "#         binarized_label = label_binarizer.fit_transform(object_columns[col])\n",
    "#         binarized_labels_df = pd.DataFrame(binarized_label, columns=label_binarizer.classes_)\n",
    "#         binarized_labels_dfs.append(binarized_labels_df)\n",
    "\n",
    "#     concatenated_dataframe = pd.concat([scaled_numeric_df] + binarized_labels_dfs, axis=1)\n",
    "#     return concatenated_dataframe\n",
    "    \n"
   ]
  },
  {
   "cell_type": "code",
   "execution_count": 27,
   "metadata": {},
   "outputs": [],
   "source": [
    "from sklearn.base import BaseEstimator, TransformerMixin\n",
    "\n",
    "class RemoveColumn(BaseEstimator, TransformerMixin):\n",
    "    def fit(self, X, y=None):\n",
    "        return self\n",
    "\n",
    "    def transform(self, X, y=None):\n",
    "        column_list = [\n",
    "            'car_id', 'car', 'Trim', 'Drivetrain', 'Seats', 'Registered city',\n",
    "            'Engine Size', 'cylinder/pw', 'Model', 'Make', 'Colour'  # Fixed typo here\n",
    "        ]\n",
    "        \n",
    "        for column in column_list:\n",
    "            try:\n",
    "                X.drop(column, axis=1, inplace=True)\n",
    "            except KeyError:\n",
    "                continue\n",
    "        return X\n"
   ]
  },
  {
   "cell_type": "code",
   "execution_count": 28,
   "metadata": {},
   "outputs": [],
   "source": [
    "from sklearn.base import BaseEstimator, TransformerMixin\n",
    "\n",
    "class DataFrameSelector(BaseEstimator, TransformerMixin):\n",
    "    def __init__(self, data_type):\n",
    "        self.data_type = data_type  \n",
    "    def fit(self, X, y=None):\n",
    "        return self\n",
    "    def transform(self, X, y=None):\n",
    "        if self.data_type == \"num\":  \n",
    "            data = X.select_dtypes(include=['int64', 'float64'])\n",
    "        elif self.data_type == \"cat\":  \n",
    "            data = X.select_dtypes(exclude=['int64', 'float64'])  \n",
    "            \n",
    "        return data\n"
   ]
  },
  {
   "cell_type": "code",
   "execution_count": 29,
   "metadata": {},
   "outputs": [],
   "source": [
    "import numpy as np\n",
    "from sklearn.base import BaseEstimator, TransformerMixin\n",
    "from sklearn.preprocessing import LabelBinarizer\n",
    "\n",
    "class MultiLabelBinarizer(BaseEstimator, TransformerMixin):\n",
    "    def __init__(self):\n",
    "        self.binarized_labels = None\n",
    "        \n",
    "    def fit(self, X, y=None):\n",
    "        return self\n",
    "    \n",
    "    def transform(self, X, y=None):\n",
    "        binarized_columns = [] \n",
    "        \n",
    "        for col_idx in range(X.shape[1]): \n",
    "            label_binarizer = LabelBinarizer()  \n",
    "            binarized_column = label_binarizer.fit_transform(X[:, col_idx])\n",
    "            binarized_columns.append(binarized_column)\n",
    "        \n",
    "        self.binarized_labels = np.hstack(binarized_columns)  \n",
    "        return self.binarized_labels\n"
   ]
  },
  {
   "cell_type": "code",
   "execution_count": 30,
   "metadata": {},
   "outputs": [],
   "source": [
    "car_details = car_data.copy()"
   ]
  },
  {
   "cell_type": "code",
   "execution_count": 31,
   "metadata": {},
   "outputs": [],
   "source": [
    "\n",
    "num_attributes = car_details.select_dtypes(include= ['int64', 'float64']).columns\n",
    "num_attributes = num_attributes.drop('price')\n",
    "cat_attributes =  car_details.select_dtypes(exclude= ['int64', 'float64']).columns\n",
    "\n",
    "num_pipeline = Pipeline(\n",
    "    [\n",
    "        ('selector', DataFrameSelector(data_type = \"num\")),\n",
    "        ('Remove_column', RemoveColumn()),\n",
    "        ('imputer', SimpleImputer(strategy='mean')),\n",
    "        ('scaler', StandardScaler()),\n",
    "    ]\n",
    "\n",
    ")\n",
    "\n",
    "\n",
    "cat_pipeline = Pipeline(\n",
    "    [\n",
    "        ('selector', DataFrameSelector(data_type = \"cat\")),\n",
    "        ('remove_column', RemoveColumn()),\n",
    "        ('imputer', SimpleImputer(strategy='most_frequent')),\n",
    "        ('binarizer', MultiLabelBinarizer()),\n",
    "        \n",
    "    ]\n",
    "\n",
    "    \n",
    ")\n",
    "\n",
    "full_pipeline = FeatureUnion(transformer_list=[\n",
    "    (\"num_pipeline\", num_pipeline),\n",
    "    ('cat_pipeline', cat_pipeline),\n",
    "\n",
    "])"
   ]
  },
  {
   "cell_type": "markdown",
   "metadata": {},
   "source": [
    "### MODEL SELECTIIOIN"
   ]
  },
  {
   "cell_type": "code",
   "execution_count": 32,
   "metadata": {},
   "outputs": [],
   "source": [
    "X = car_details.drop(['price'], axis = 1)\n",
    "y  = car_details['price']\n",
    "x_train, x_test, y_train, y_test = train_test_split(X,y, test_size=0.2, random_state=42)"
   ]
  },
  {
   "cell_type": "code",
   "execution_count": 33,
   "metadata": {},
   "outputs": [],
   "source": [
    "prepared = full_pipeline.fit_transform(x_train)\n",
    "y_train = np.log(y_train)"
   ]
  },
  {
   "cell_type": "code",
   "execution_count": 34,
   "metadata": {},
   "outputs": [
    {
     "data": {
      "text/plain": [
       "(2975, 15)"
      ]
     },
     "execution_count": 34,
     "metadata": {},
     "output_type": "execute_result"
    }
   ],
   "source": [
    "prepared.shape"
   ]
  },
  {
   "cell_type": "code",
   "execution_count": 35,
   "metadata": {},
   "outputs": [],
   "source": [
    "# from sklearn.metrics import mean_squared_error, r2_score \n",
    "# from sklearn.model_selection import cross_val_score\n",
    "# from sklearn.linear_model import SGDRegressor, LinearRegression\n",
    "# from sklearn.ensemble import RandomForestRegressor\n",
    "# from sklearn.tree import DecisionTreeRegressor\n",
    "# from sklearn.svm import SVR\n",
    "# from sklearn.ensemble import AdaBoostRegressor\n",
    "# from sklearn.ensemble import BaggingRegressor\n",
    "# from sklearn.ensemble import ExtraTreesRegressor\n",
    "# from sklearn.ensemble import GradientBoostingRegressor\n",
    "# from sklearn.ensemble import StackingRegressor\n",
    "# from sklearn.ensemble import VotingRegressor\n",
    "# from sklearn.inspection import permutation_importance\n",
    "\n",
    "\n",
    "\n",
    "# models = [('sgd',SGDRegressor()),('svm',SVR()),('forest',RandomForestRegressor()),\n",
    "#          ('ada', AdaBoostRegressor()),('bag',BaggingRegressor()),('extree',ExtraTreesRegressor()),\n",
    "#           ('grad',GradientBoostingRegressor()),('lnr', LinearRegression()),]\n",
    "          \n",
    "# for i,j in models:\n",
    "#     scores = cross_val_score(j, prepared, y_train, scoring='neg_mean_squared_error', cv=10)\n",
    "#     rmse = np.sqrt(-scores.mean())\n",
    "#     print(i,rmse)"
   ]
  },
  {
   "cell_type": "code",
   "execution_count": 36,
   "metadata": {},
   "outputs": [],
   "source": [
    "import joblib"
   ]
  },
  {
   "cell_type": "code",
   "execution_count": 52,
   "metadata": {},
   "outputs": [
    {
     "data": {
      "text/plain": [
       "['my_model.pkl']"
      ]
     },
     "execution_count": 52,
     "metadata": {},
     "output_type": "execute_result"
    }
   ],
   "source": [
    "from sklearn.ensemble import RandomForestRegressor\n",
    "from sklearn.ensemble import GradientBoostingRegressor\n",
    "model = GradientBoostingRegressor()\n",
    "model.fit(prepared,y_train)\n",
    "joblib.dump(model, \"my_model.pkl\")"
   ]
  },
  {
   "cell_type": "code",
   "execution_count": 53,
   "metadata": {},
   "outputs": [
    {
     "name": "stdout",
     "output_type": "stream",
     "text": [
      "0.3959117362162116\n"
     ]
    }
   ],
   "source": [
    "from sklearn.model_selection import cross_val_score\n",
    "scores = cross_val_score(RandomForestRegressor(), prepared, y_train, scoring='neg_mean_squared_error', cv=10)\n",
    "rmse = np.sqrt(-scores.mean())\n",
    "print(rmse)"
   ]
  },
  {
   "cell_type": "code",
   "execution_count": 54,
   "metadata": {},
   "outputs": [],
   "source": [
    "model = joblib.load(\"my_model.pkl\")"
   ]
  },
  {
   "cell_type": "markdown",
   "metadata": {},
   "source": [
    "## Evaluating on test set"
   ]
  },
  {
   "cell_type": "code",
   "execution_count": 55,
   "metadata": {},
   "outputs": [],
   "source": [
    "\n",
    "test_features = full_pipeline.transform(x_test)"
   ]
  },
  {
   "cell_type": "code",
   "execution_count": 56,
   "metadata": {},
   "outputs": [],
   "source": [
    "prediction = model.predict(test_features)\n",
    "real_prediction = np.exp(prediction)\n"
   ]
  },
  {
   "cell_type": "code",
   "execution_count": 73,
   "metadata": {},
   "outputs": [],
   "source": [
    "y_test = y_test.values"
   ]
  },
  {
   "cell_type": "code",
   "execution_count": 74,
   "metadata": {},
   "outputs": [
    {
     "data": {
      "text/plain": [
       "3042373.102270368"
      ]
     },
     "execution_count": 74,
     "metadata": {},
     "output_type": "execute_result"
    }
   ],
   "source": [
    "final_mse = mean_squared_error(y_test, real_prediction)\n",
    "final_rmse = np.sqrt(final_mse) \n",
    "final_rmse"
   ]
  },
  {
   "cell_type": "code",
   "execution_count": 75,
   "metadata": {},
   "outputs": [
    {
     "data": {
      "text/plain": [
       "<matplotlib.legend.Legend at 0x20ea3b486a0>"
      ]
     },
     "execution_count": 75,
     "metadata": {},
     "output_type": "execute_result"
    },
    {
     "data": {
      "image/png": "[encoded data removed]",
      "text/plain": [
       "<Figure size 432x288 with 1 Axes>"
      ]
     },
     "metadata": {
      "needs_background": "light"
     },
     "output_type": "display_data"
    }
   ],
   "source": [
    "sns.histplot(real_prediction, label='prediction',color='red')\n",
    "sns.histplot(y_test, label='actual price')\n",
    "plt.legend()"
   ]
  },
  {
   "cell_type": "code",
   "execution_count": 76,
   "metadata": {},
   "outputs": [
    {
     "data": {
      "text/html": [
       "<div>\n",
       "<style scoped>\n",
       "    .dataframe tbody tr th:only-of-type {\n",
       "        vertical-align: middle;\n",
       "    }\n",
       "\n",
       "    .dataframe tbody tr th {\n",
       "        vertical-align: top;\n",
       "    }\n",
       "\n",
       "    .dataframe thead th {\n",
       "        text-align: right;\n",
       "    }\n",
       "</style>\n",
       "<table border=\"1\" class=\"dataframe\">\n",
       "  <thead>\n",
       "    <tr style=\"text-align: right;\">\n",
       "      <th></th>\n",
       "      <th>Prediction</th>\n",
       "      <th>Target</th>\n",
       "      <th>Difference%</th>\n",
       "    </tr>\n",
       "  </thead>\n",
       "  <tbody>\n",
       "    <tr>\n",
       "      <th>424</th>\n",
       "      <td>4204288.494</td>\n",
       "      <td>4200000</td>\n",
       "      <td>0.102</td>\n",
       "    </tr>\n",
       "    <tr>\n",
       "      <th>213</th>\n",
       "      <td>4415252.220</td>\n",
       "      <td>4410000</td>\n",
       "      <td>0.119</td>\n",
       "    </tr>\n",
       "    <tr>\n",
       "      <th>182</th>\n",
       "      <td>3145522.559</td>\n",
       "      <td>3150000</td>\n",
       "      <td>0.142</td>\n",
       "    </tr>\n",
       "    <tr>\n",
       "      <th>624</th>\n",
       "      <td>1778511.121</td>\n",
       "      <td>1775000</td>\n",
       "      <td>0.198</td>\n",
       "    </tr>\n",
       "    <tr>\n",
       "      <th>440</th>\n",
       "      <td>2095794.762</td>\n",
       "      <td>2100000</td>\n",
       "      <td>0.200</td>\n",
       "    </tr>\n",
       "    <tr>\n",
       "      <th>...</th>\n",
       "      <td>...</td>\n",
       "      <td>...</td>\n",
       "      <td>...</td>\n",
       "    </tr>\n",
       "    <tr>\n",
       "      <th>645</th>\n",
       "      <td>2424738.338</td>\n",
       "      <td>840000</td>\n",
       "      <td>188.659</td>\n",
       "    </tr>\n",
       "    <tr>\n",
       "      <th>513</th>\n",
       "      <td>6627275.152</td>\n",
       "      <td>1995000</td>\n",
       "      <td>232.194</td>\n",
       "    </tr>\n",
       "    <tr>\n",
       "      <th>230</th>\n",
       "      <td>2867988.837</td>\n",
       "      <td>840000</td>\n",
       "      <td>241.427</td>\n",
       "    </tr>\n",
       "    <tr>\n",
       "      <th>93</th>\n",
       "      <td>3792779.172</td>\n",
       "      <td>1049992</td>\n",
       "      <td>261.220</td>\n",
       "    </tr>\n",
       "    <tr>\n",
       "      <th>648</th>\n",
       "      <td>3676365.196</td>\n",
       "      <td>850000</td>\n",
       "      <td>332.514</td>\n",
       "    </tr>\n",
       "  </tbody>\n",
       "</table>\n",
       "<p>744 rows × 3 columns</p>\n",
       "</div>"
      ],
      "text/plain": [
       "     Prediction   Target  Difference%\n",
       "424 4204288.494  4200000        0.102\n",
       "213 4415252.220  4410000        0.119\n",
       "182 3145522.559  3150000        0.142\n",
       "624 1778511.121  1775000        0.198\n",
       "440 2095794.762  2100000        0.200\n",
       "..          ...      ...          ...\n",
       "645 2424738.338   840000      188.659\n",
       "513 6627275.152  1995000      232.194\n",
       "230 2867988.837   840000      241.427\n",
       "93  3792779.172  1049992      261.220\n",
       "648 3676365.196   850000      332.514\n",
       "\n",
       "[744 rows x 3 columns]"
      ]
     },
     "execution_count": 76,
     "metadata": {},
     "output_type": "execute_result"
    }
   ],
   "source": [
    "df_pred = pd.DataFrame((real_prediction), columns=['Prediction'])\n",
    "df_pred['Target'] = y_test\n",
    "\n",
    "df_pred['Difference%'] = np.absolute((df_pred['Target'] - df_pred['Prediction'])/df_pred['Target']*100)\n",
    "pd.set_option('display.float_format', lambda x: '%.3f' % x)\n",
    "df_pred = df_pred.sort_values(by=['Difference%'])\n",
    "df_pred"
   ]
  },
  {
   "cell_type": "code",
   "execution_count": null,
   "metadata": {},
   "outputs": [],
   "source": []
  }
 ],
 "metadata": {
  "kernelspec": {
   "display_name": "Python 3 (ipykernel)",
   "language": "python",
   "name": "python3"
  },
  "language_info": {
   "codemirror_mode": {
    "name": "ipython",
    "version": 3
   },
   "file_extension": ".py",
   "mimetype": "text/x-python",
   "name": "python",
   "nbconvert_exporter": "python",
   "pygments_lexer": "ipython3",
   "version": "3.9.12"
  },
  "orig_nbformat": 4
 },
 "nbformat": 4,
 "nbformat_minor": 2
}
