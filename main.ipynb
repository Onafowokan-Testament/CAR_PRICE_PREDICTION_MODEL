{
 "cells": [
  {
   "cell_type": "code",
   "execution_count": 58,
   "metadata": {},
   "outputs": [],
   "source": [
    "import pandas as pd\n",
    "import numpy as np \n",
    "import matplotlib.pyplot as plt\n",
    "from sklearn.model_selection import train_test_split\n",
    "from sklearn.preprocessing import LabelEncoder, OneHotEncoder, LabelBinarizer\n",
    "from sklearn.preprocessing import StandardScaler, MinMaxScaler\n",
    "from sklearn.linear_model import LinearRegression\n",
    "from sklearn.tree import DecisionTreeRegressor\n",
    "from sklearn.metrics import mean_squared_error\n",
    "from sklearn.ensemble import RandomForestClassifier\n",
    "import seaborn as sns\n",
    "\n",
    "%matplotlib inline"
   ]
  },
  {
   "cell_type": "code",
   "execution_count": 59,
   "metadata": {},
   "outputs": [],
   "source": [
    "label_encoder = LabelEncoder()\n",
    "label_binarizer = LabelBinarizer()\n",
    "standard_scaler = StandardScaler()\n",
    "minmax_scaler = MinMaxScaler()\n"
   ]
  },
  {
   "cell_type": "markdown",
   "metadata": {},
   "source": [
    "## GETTING THE DATA"
   ]
  },
  {
   "cell_type": "code",
   "execution_count": 60,
   "metadata": {},
   "outputs": [],
   "source": [
    "car_data = pd.read_csv(\"car_prices.csv\")"
   ]
  },
  {
   "cell_type": "code",
   "execution_count": 61,
   "metadata": {},
   "outputs": [
    {
     "name": "stdout",
     "output_type": "stream",
     "text": [
      "<class 'pandas.core.frame.DataFrame'>\n",
      "RangeIndex: 3722 entries, 0 to 3721\n",
      "Data columns (total 20 columns):\n",
      " #   Column               Non-Null Count  Dtype  \n",
      "---  ------               --------------  -----  \n",
      " 0   car_id               3722 non-null   object \n",
      " 1   price                3722 non-null   int64  \n",
      " 2   fuel type            3721 non-null   object \n",
      " 3   gear type            3720 non-null   object \n",
      " 4   Make                 3722 non-null   object \n",
      " 5   Model                3722 non-null   object \n",
      " 6   Year of manufacture  3722 non-null   int64  \n",
      " 7   Colour               3717 non-null   object \n",
      " 8   Condition            3722 non-null   object \n",
      " 9   Mileage              3663 non-null   float64\n",
      " 10  Engine Size          3661 non-null   float64\n",
      " 11  Selling Condition    3722 non-null   object \n",
      " 12  Bought Condition     3722 non-null   object \n",
      " 13  car                  1767 non-null   object \n",
      " 14  Trim                 879 non-null    object \n",
      " 15  Drivetrain           838 non-null    object \n",
      " 16  Seats                788 non-null    float64\n",
      " 17  Number of Cylinders  826 non-null    float64\n",
      " 18  Horse Power          755 non-null    float64\n",
      " 19  Registered city      1901 non-null   object \n",
      "dtypes: float64(5), int64(2), object(13)\n",
      "memory usage: 581.7+ KB\n"
     ]
    }
   ],
   "source": [
    "car_data.info()"
   ]
  },
  {
   "cell_type": "markdown",
   "metadata": {},
   "source": [
    "## Sampling a test set and no data snooping\n"
   ]
  },
  {
   "cell_type": "markdown",
   "metadata": {},
   "source": []
  },
  {
   "cell_type": "code",
   "execution_count": null,
   "metadata": {},
   "outputs": [],
   "source": []
  },
  {
   "cell_type": "code",
   "execution_count": 62,
   "metadata": {},
   "outputs": [],
   "source": [
    "copy_data= car_data.copy()"
   ]
  },
  {
   "cell_type": "code",
   "execution_count": 63,
   "metadata": {},
   "outputs": [
    {
     "name": "stdout",
     "output_type": "stream",
     "text": [
      "<class 'pandas.core.frame.DataFrame'>\n",
      "RangeIndex: 3722 entries, 0 to 3721\n",
      "Data columns (total 20 columns):\n",
      " #   Column               Non-Null Count  Dtype  \n",
      "---  ------               --------------  -----  \n",
      " 0   car_id               3722 non-null   object \n",
      " 1   price                3722 non-null   int64  \n",
      " 2   fuel type            3721 non-null   object \n",
      " 3   gear type            3720 non-null   object \n",
      " 4   Make                 3722 non-null   object \n",
      " 5   Model                3722 non-null   object \n",
      " 6   Year of manufacture  3722 non-null   int64  \n",
      " 7   Colour               3717 non-null   object \n",
      " 8   Condition            3722 non-null   object \n",
      " 9   Mileage              3663 non-null   float64\n",
      " 10  Engine Size          3661 non-null   float64\n",
      " 11  Selling Condition    3722 non-null   object \n",
      " 12  Bought Condition     3722 non-null   object \n",
      " 13  car                  1767 non-null   object \n",
      " 14  Trim                 879 non-null    object \n",
      " 15  Drivetrain           838 non-null    object \n",
      " 16  Seats                788 non-null    float64\n",
      " 17  Number of Cylinders  826 non-null    float64\n",
      " 18  Horse Power          755 non-null    float64\n",
      " 19  Registered city      1901 non-null   object \n",
      "dtypes: float64(5), int64(2), object(13)\n",
      "memory usage: 581.7+ KB\n"
     ]
    }
   ],
   "source": [
    "copy_data.info()"
   ]
  },
  {
   "cell_type": "markdown",
   "metadata": {},
   "source": [
    "## EXPLORING THE DATA"
   ]
  },
  {
   "cell_type": "code",
   "execution_count": 64,
   "metadata": {},
   "outputs": [
    {
     "data": {
      "text/html": [
       "<div>\n",
       "<style scoped>\n",
       "    .dataframe tbody tr th:only-of-type {\n",
       "        vertical-align: middle;\n",
       "    }\n",
       "\n",
       "    .dataframe tbody tr th {\n",
       "        vertical-align: top;\n",
       "    }\n",
       "\n",
       "    .dataframe thead th {\n",
       "        text-align: right;\n",
       "    }\n",
       "</style>\n",
       "<table border=\"1\" class=\"dataframe\">\n",
       "  <thead>\n",
       "    <tr style=\"text-align: right;\">\n",
       "      <th></th>\n",
       "      <th>price</th>\n",
       "      <th>Year of manufacture</th>\n",
       "      <th>Mileage</th>\n",
       "      <th>Engine Size</th>\n",
       "      <th>Seats</th>\n",
       "      <th>Number of Cylinders</th>\n",
       "      <th>Horse Power</th>\n",
       "    </tr>\n",
       "  </thead>\n",
       "  <tbody>\n",
       "    <tr>\n",
       "      <th>count</th>\n",
       "      <td>3722.000</td>\n",
       "      <td>3722.000</td>\n",
       "      <td>3663.000</td>\n",
       "      <td>3661.000</td>\n",
       "      <td>788.000</td>\n",
       "      <td>826.000</td>\n",
       "      <td>755.000</td>\n",
       "    </tr>\n",
       "    <tr>\n",
       "      <th>mean</th>\n",
       "      <td>4514644.057</td>\n",
       "      <td>2008.146</td>\n",
       "      <td>194984.144</td>\n",
       "      <td>11080.623</td>\n",
       "      <td>5.286</td>\n",
       "      <td>5.157</td>\n",
       "      <td>208.832</td>\n",
       "    </tr>\n",
       "    <tr>\n",
       "      <th>std</th>\n",
       "      <td>4297011.880</td>\n",
       "      <td>4.206</td>\n",
       "      <td>139575.514</td>\n",
       "      <td>109112.707</td>\n",
       "      <td>0.801</td>\n",
       "      <td>1.203</td>\n",
       "      <td>70.941</td>\n",
       "    </tr>\n",
       "    <tr>\n",
       "      <th>min</th>\n",
       "      <td>550000.000</td>\n",
       "      <td>1979.000</td>\n",
       "      <td>1.000</td>\n",
       "      <td>180.000</td>\n",
       "      <td>2.000</td>\n",
       "      <td>4.000</td>\n",
       "      <td>83.000</td>\n",
       "    </tr>\n",
       "    <tr>\n",
       "      <th>25%</th>\n",
       "      <td>2310000.000</td>\n",
       "      <td>2005.000</td>\n",
       "      <td>117394.500</td>\n",
       "      <td>2000.000</td>\n",
       "      <td>5.000</td>\n",
       "      <td>4.000</td>\n",
       "      <td>158.000</td>\n",
       "    </tr>\n",
       "    <tr>\n",
       "      <th>50%</th>\n",
       "      <td>3360000.000</td>\n",
       "      <td>2008.000</td>\n",
       "      <td>176290.000</td>\n",
       "      <td>2500.000</td>\n",
       "      <td>5.000</td>\n",
       "      <td>6.000</td>\n",
       "      <td>203.000</td>\n",
       "    </tr>\n",
       "    <tr>\n",
       "      <th>75%</th>\n",
       "      <td>5036250.000</td>\n",
       "      <td>2011.000</td>\n",
       "      <td>245381.500</td>\n",
       "      <td>3500.000</td>\n",
       "      <td>5.000</td>\n",
       "      <td>6.000</td>\n",
       "      <td>268.000</td>\n",
       "    </tr>\n",
       "    <tr>\n",
       "      <th>max</th>\n",
       "      <td>62400000.000</td>\n",
       "      <td>2022.000</td>\n",
       "      <td>2456318.000</td>\n",
       "      <td>3500000.000</td>\n",
       "      <td>8.000</td>\n",
       "      <td>8.000</td>\n",
       "      <td>585.000</td>\n",
       "    </tr>\n",
       "  </tbody>\n",
       "</table>\n",
       "</div>"
      ],
      "text/plain": [
       "             price  Year of manufacture     Mileage  Engine Size   Seats  \\\n",
       "count     3722.000             3722.000    3663.000     3661.000 788.000   \n",
       "mean   4514644.057             2008.146  194984.144    11080.623   5.286   \n",
       "std    4297011.880                4.206  139575.514   109112.707   0.801   \n",
       "min     550000.000             1979.000       1.000      180.000   2.000   \n",
       "25%    2310000.000             2005.000  117394.500     2000.000   5.000   \n",
       "50%    3360000.000             2008.000  176290.000     2500.000   5.000   \n",
       "75%    5036250.000             2011.000  245381.500     3500.000   5.000   \n",
       "max   62400000.000             2022.000 2456318.000  3500000.000   8.000   \n",
       "\n",
       "       Number of Cylinders  Horse Power  \n",
       "count              826.000      755.000  \n",
       "mean                 5.157      208.832  \n",
       "std                  1.203       70.941  \n",
       "min                  4.000       83.000  \n",
       "25%                  4.000      158.000  \n",
       "50%                  6.000      203.000  \n",
       "75%                  6.000      268.000  \n",
       "max                  8.000      585.000  "
      ]
     },
     "execution_count": 64,
     "metadata": {},
     "output_type": "execute_result"
    }
   ],
   "source": [
    "car_data.describe()"
   ]
  },
  {
   "cell_type": "code",
   "execution_count": 65,
   "metadata": {},
   "outputs": [
    {
     "data": {
      "text/html": [
       "<div>\n",
       "<style scoped>\n",
       "    .dataframe tbody tr th:only-of-type {\n",
       "        vertical-align: middle;\n",
       "    }\n",
       "\n",
       "    .dataframe tbody tr th {\n",
       "        vertical-align: top;\n",
       "    }\n",
       "\n",
       "    .dataframe thead th {\n",
       "        text-align: right;\n",
       "    }\n",
       "</style>\n",
       "<table border=\"1\" class=\"dataframe\">\n",
       "  <thead>\n",
       "    <tr style=\"text-align: right;\">\n",
       "      <th></th>\n",
       "      <th>car_id</th>\n",
       "      <th>price</th>\n",
       "      <th>fuel type</th>\n",
       "      <th>gear type</th>\n",
       "      <th>Make</th>\n",
       "      <th>Model</th>\n",
       "      <th>Year of manufacture</th>\n",
       "      <th>Colour</th>\n",
       "      <th>Condition</th>\n",
       "      <th>Mileage</th>\n",
       "      <th>Engine Size</th>\n",
       "      <th>Selling Condition</th>\n",
       "      <th>Bought Condition</th>\n",
       "      <th>car</th>\n",
       "      <th>Trim</th>\n",
       "      <th>Drivetrain</th>\n",
       "      <th>Seats</th>\n",
       "      <th>Number of Cylinders</th>\n",
       "      <th>Horse Power</th>\n",
       "      <th>Registered city</th>\n",
       "    </tr>\n",
       "  </thead>\n",
       "  <tbody>\n",
       "    <tr>\n",
       "      <th>0</th>\n",
       "      <td>icwAaDOmX573WiRRnLFPT237</td>\n",
       "      <td>2812500</td>\n",
       "      <td>Petrol</td>\n",
       "      <td>Automatic</td>\n",
       "      <td>Toyota</td>\n",
       "      <td>Corolla</td>\n",
       "      <td>2004</td>\n",
       "      <td>Silver</td>\n",
       "      <td>Nigerian Used</td>\n",
       "      <td>251732.000</td>\n",
       "      <td>1800.000</td>\n",
       "      <td>Registered</td>\n",
       "      <td>Registered</td>\n",
       "      <td>NaN</td>\n",
       "      <td>NaN</td>\n",
       "      <td>NaN</td>\n",
       "      <td>NaN</td>\n",
       "      <td>NaN</td>\n",
       "      <td>NaN</td>\n",
       "      <td>NaN</td>\n",
       "    </tr>\n",
       "    <tr>\n",
       "      <th>1</th>\n",
       "      <td>ByZ3NlPy2x0arAIyrKazClUS</td>\n",
       "      <td>5000000</td>\n",
       "      <td>Petrol</td>\n",
       "      <td>Automatic</td>\n",
       "      <td>Acura</td>\n",
       "      <td>MDX</td>\n",
       "      <td>2007</td>\n",
       "      <td>Green</td>\n",
       "      <td>Foreign Used</td>\n",
       "      <td>224589.000</td>\n",
       "      <td>3700.000</td>\n",
       "      <td>Imported</td>\n",
       "      <td>Imported</td>\n",
       "      <td>SUV</td>\n",
       "      <td>NaN</td>\n",
       "      <td>NaN</td>\n",
       "      <td>NaN</td>\n",
       "      <td>NaN</td>\n",
       "      <td>NaN</td>\n",
       "      <td>NaN</td>\n",
       "    </tr>\n",
       "    <tr>\n",
       "      <th>2</th>\n",
       "      <td>2zG6Mh3kwyoTvWoeKHkV1oFH</td>\n",
       "      <td>7592000</td>\n",
       "      <td>Petrol</td>\n",
       "      <td>Automatic</td>\n",
       "      <td>Acura</td>\n",
       "      <td>TL</td>\n",
       "      <td>2012</td>\n",
       "      <td>White</td>\n",
       "      <td>Foreign Used</td>\n",
       "      <td>111334.000</td>\n",
       "      <td>3500.000</td>\n",
       "      <td>Imported</td>\n",
       "      <td>Imported</td>\n",
       "      <td>Sedan</td>\n",
       "      <td>SH-AWD Automatic Tech Package</td>\n",
       "      <td>All Wheel</td>\n",
       "      <td>5.000</td>\n",
       "      <td>6.000</td>\n",
       "      <td>309.000</td>\n",
       "      <td>NaN</td>\n",
       "    </tr>\n",
       "    <tr>\n",
       "      <th>3</th>\n",
       "      <td>7APLHOPlI93qsYK0ST4D4wB2</td>\n",
       "      <td>9880000</td>\n",
       "      <td>Petrol</td>\n",
       "      <td>Automatic</td>\n",
       "      <td>Land Rover</td>\n",
       "      <td>Range Rover</td>\n",
       "      <td>2012</td>\n",
       "      <td>Gray</td>\n",
       "      <td>Nigerian Used</td>\n",
       "      <td>72682.000</td>\n",
       "      <td>4000.000</td>\n",
       "      <td>Registered</td>\n",
       "      <td>Imported</td>\n",
       "      <td>SUV</td>\n",
       "      <td>NaN</td>\n",
       "      <td>NaN</td>\n",
       "      <td>NaN</td>\n",
       "      <td>NaN</td>\n",
       "      <td>NaN</td>\n",
       "      <td>NaN</td>\n",
       "    </tr>\n",
       "    <tr>\n",
       "      <th>4</th>\n",
       "      <td>zIrIDPJLd46eRQf9JFacc0e</td>\n",
       "      <td>4160000</td>\n",
       "      <td>Petrol</td>\n",
       "      <td>Automatic</td>\n",
       "      <td>Ford</td>\n",
       "      <td>Edge</td>\n",
       "      <td>2013</td>\n",
       "      <td>Gray</td>\n",
       "      <td>Nigerian Used</td>\n",
       "      <td>92118.000</td>\n",
       "      <td>3500.000</td>\n",
       "      <td>Registered</td>\n",
       "      <td>Registered</td>\n",
       "      <td>SUV</td>\n",
       "      <td>NaN</td>\n",
       "      <td>NaN</td>\n",
       "      <td>NaN</td>\n",
       "      <td>NaN</td>\n",
       "      <td>NaN</td>\n",
       "      <td>Lagos</td>\n",
       "    </tr>\n",
       "  </tbody>\n",
       "</table>\n",
       "</div>"
      ],
      "text/plain": [
       "                     car_id    price fuel type  gear type        Make  \\\n",
       "0  icwAaDOmX573WiRRnLFPT237  2812500    Petrol  Automatic      Toyota   \n",
       "1  ByZ3NlPy2x0arAIyrKazClUS  5000000    Petrol  Automatic       Acura   \n",
       "2  2zG6Mh3kwyoTvWoeKHkV1oFH  7592000    Petrol  Automatic       Acura   \n",
       "3  7APLHOPlI93qsYK0ST4D4wB2  9880000    Petrol  Automatic  Land Rover   \n",
       "4   zIrIDPJLd46eRQf9JFacc0e  4160000    Petrol  Automatic        Ford   \n",
       "\n",
       "         Model  Year of manufacture  Colour      Condition    Mileage  \\\n",
       "0      Corolla                 2004  Silver  Nigerian Used 251732.000   \n",
       "1          MDX                 2007   Green   Foreign Used 224589.000   \n",
       "2           TL                 2012   White   Foreign Used 111334.000   \n",
       "3  Range Rover                 2012    Gray  Nigerian Used  72682.000   \n",
       "4         Edge                 2013    Gray  Nigerian Used  92118.000   \n",
       "\n",
       "   Engine Size Selling Condition Bought Condition    car  \\\n",
       "0     1800.000        Registered       Registered    NaN   \n",
       "1     3700.000          Imported         Imported    SUV   \n",
       "2     3500.000          Imported         Imported  Sedan   \n",
       "3     4000.000        Registered         Imported    SUV   \n",
       "4     3500.000        Registered       Registered    SUV   \n",
       "\n",
       "                            Trim Drivetrain  Seats  Number of Cylinders  \\\n",
       "0                            NaN        NaN    NaN                  NaN   \n",
       "1                            NaN        NaN    NaN                  NaN   \n",
       "2  SH-AWD Automatic Tech Package  All Wheel  5.000                6.000   \n",
       "3                            NaN        NaN    NaN                  NaN   \n",
       "4                            NaN        NaN    NaN                  NaN   \n",
       "\n",
       "   Horse Power Registered city  \n",
       "0          NaN             NaN  \n",
       "1          NaN             NaN  \n",
       "2      309.000             NaN  \n",
       "3          NaN             NaN  \n",
       "4          NaN           Lagos  "
      ]
     },
     "execution_count": 65,
     "metadata": {},
     "output_type": "execute_result"
    }
   ],
   "source": [
    "car_data.head()"
   ]
  },
  {
   "cell_type": "markdown",
   "metadata": {},
   "source": [
    "## Histogram of continous data"
   ]
  },
  {
   "cell_type": "markdown",
   "metadata": {},
   "source": [
    "### Removing outliers"
   ]
  },
  {
   "cell_type": "code",
   "execution_count": 66,
   "metadata": {},
   "outputs": [],
   "source": [
    "q = car_data['Mileage'].quantile(0.99)\n",
    "copy_data = copy_data[(copy_data['Mileage']) < q]"
   ]
  },
  {
   "cell_type": "code",
   "execution_count": 67,
   "metadata": {},
   "outputs": [
    {
     "data": {
      "image/png": "[encoded data removed]",
      "text/plain": [
       "<Figure size 576x1728 with 4 Axes>"
      ]
     },
     "metadata": {
      "needs_background": "light"
     },
     "output_type": "display_data"
    }
   ],
   "source": [
    "columns = [\"price\",\"Year of manufacture\", \"Mileage\", \"Engine Size\"]\n",
    "\n",
    "fig, axes = plt.subplots(nrows= len(columns), ncols=1, figsize= (8, 6*len(columns)))\n",
    "\n",
    "for i, column in enumerate(columns):\n",
    "    ax = axes[i]\n",
    "    ax.hist(copy_data[column])\n",
    "    ax.set_xlabel(columns[i])\n",
    "plt.tight_layout()\n",
    "\n",
    "\n",
    "\n",
    "# Display the plot\n",
    "plt.show()  "
   ]
  },
  {
   "cell_type": "code",
   "execution_count": 68,
   "metadata": {},
   "outputs": [
    {
     "name": "stderr",
     "output_type": "stream",
     "text": [
      "c:\\ProgramData\\Anaconda3\\lib\\site-packages\\seaborn\\distributions.py:2619: FutureWarning: `distplot` is a deprecated function and will be removed in a future version. Please adapt your code to use either `displot` (a figure-level function with similar flexibility) or `histplot` (an axes-level function for histograms).\n",
      "  warnings.warn(msg, FutureWarning)\n"
     ]
    },
    {
     "data": {
      "image/png": "[encoded data removed]",
      "text/plain": [
       "<Figure size 432x288 with 1 Axes>"
      ]
     },
     "metadata": {
      "needs_background": "light"
     },
     "output_type": "display_data"
    },
    {
     "name": "stderr",
     "output_type": "stream",
     "text": [
      "c:\\ProgramData\\Anaconda3\\lib\\site-packages\\seaborn\\distributions.py:2619: FutureWarning: `distplot` is a deprecated function and will be removed in a future version. Please adapt your code to use either `displot` (a figure-level function with similar flexibility) or `histplot` (an axes-level function for histograms).\n",
      "  warnings.warn(msg, FutureWarning)\n"
     ]
    },
    {
     "data": {
      "image/png": "[encoded data removed]",
      "text/plain": [
       "<Figure size 432x288 with 1 Axes>"
      ]
     },
     "metadata": {
      "needs_background": "light"
     },
     "output_type": "display_data"
    },
    {
     "name": "stderr",
     "output_type": "stream",
     "text": [
      "c:\\ProgramData\\Anaconda3\\lib\\site-packages\\seaborn\\distributions.py:2619: FutureWarning: `distplot` is a deprecated function and will be removed in a future version. Please adapt your code to use either `displot` (a figure-level function with similar flexibility) or `histplot` (an axes-level function for histograms).\n",
      "  warnings.warn(msg, FutureWarning)\n"
     ]
    },
    {
     "data": {
      "image/png": "[encoded data removed]",
      "text/plain": [
       "<Figure size 432x288 with 1 Axes>"
      ]
     },
     "metadata": {
      "needs_background": "light"
     },
     "output_type": "display_data"
    },
    {
     "name": "stderr",
     "output_type": "stream",
     "text": [
      "c:\\ProgramData\\Anaconda3\\lib\\site-packages\\seaborn\\distributions.py:2619: FutureWarning: `distplot` is a deprecated function and will be removed in a future version. Please adapt your code to use either `displot` (a figure-level function with similar flexibility) or `histplot` (an axes-level function for histograms).\n",
      "  warnings.warn(msg, FutureWarning)\n"
     ]
    },
    {
     "data": {
      "image/png": "[encoded data removed]",
      "text/plain": [
       "<Figure size 432x288 with 1 Axes>"
      ]
     },
     "metadata": {
      "needs_background": "light"
     },
     "output_type": "display_data"
    }
   ],
   "source": [
    "columns = [\"price\",\"Year of manufacture\", \"Mileage\", \"Engine Size\"]\n",
    "\n",
    "for column in columns:\n",
    "    sns.distplot(copy_data[column])\n",
    "    plt.show()  \n",
    "\n",
    "\n",
    "# Display the plot\n"
   ]
  },
  {
   "cell_type": "markdown",
   "metadata": {},
   "source": [
    "### LOG TRANSFORMATION HISTOGRAM\n"
   ]
  },
  {
   "cell_type": "code",
   "execution_count": 69,
   "metadata": {},
   "outputs": [
    {
     "data": {
      "image/png": "[encoded data removed]",
      "text/plain": [
       "<Figure size 576x1728 with 4 Axes>"
      ]
     },
     "metadata": {
      "needs_background": "light"
     },
     "output_type": "display_data"
    }
   ],
   "source": [
    "columns = [\"price\",\"Year of manufacture\", \"Mileage\", \"Engine Size\"]\n",
    "\n",
    "fig, axes = plt.subplots(nrows= len(columns), ncols=1, figsize= (8, 6*len(columns)))\n",
    "\n",
    "for i, column in enumerate(columns):\n",
    "    ax = axes[i]\n",
    "    ax.hist(np.log(copy_data[column]))\n",
    "    ax.set_xlabel(columns[i])\n",
    "plt.tight_layout()\n",
    "\n",
    "\n",
    "\n",
    "# Display the plot\n",
    "plt.show()  "
   ]
  },
  {
   "cell_type": "markdown",
   "metadata": {},
   "source": [
    "###### car-id: this is the id of the car, which i feel wont describebe anything about the car so needs to be removed \\n\n",
    "###### price- That is our target. it does not have any null value and it is an integer\n",
    "###### fuel_type: It has one missing vlue, which would be removed\n",
    "###### gear_type: It has one missing vlue, and anobject\n",
    "###### color- it has 4 missing values, put in the mode values in each one\n",
    "###### mileage- it has 45 missing values, and it is a flot, so we can fill in with median\n",
    "###### Engine size- als have 45+ missing values. it can be filled with median\n",
    "###### car: has a lot of missing value and it is an object\n",
    "###### trim, drivetrain,seats,number_of_cylinder,horse power, registered city all have a lot of missing values\n",
    "###### i would remove from car to registered city\n",
    "\n",
    "\n",
    "###### Log of price transformation\n",
    "######  Log all numerical data except from mileage"
   ]
  },
  {
   "cell_type": "markdown",
   "metadata": {},
   "source": [
    "###### Stochastic noise is often not unavoidable. All you have to do is build robost models, and you can use sross validation technique to know if your data is suspectible to noise.   Robust models like decision tree can reduce outliers"
   ]
  },
  {
   "cell_type": "markdown",
   "metadata": {},
   "source": [
    "###### removing outliers"
   ]
  },
  {
   "cell_type": "code",
   "execution_count": null,
   "metadata": {},
   "outputs": [],
   "source": []
  },
  {
   "cell_type": "code",
   "execution_count": 70,
   "metadata": {},
   "outputs": [
    {
     "name": "stderr",
     "output_type": "stream",
     "text": [
      "c:\\ProgramData\\Anaconda3\\lib\\site-packages\\seaborn\\distributions.py:2619: FutureWarning: `distplot` is a deprecated function and will be removed in a future version. Please adapt your code to use either `displot` (a figure-level function with similar flexibility) or `histplot` (an axes-level function for histograms).\n",
      "  warnings.warn(msg, FutureWarning)\n"
     ]
    },
    {
     "data": {
      "image/png": "[encoded data removed]",
      "text/plain": [
       "<Figure size 432x288 with 1 Axes>"
      ]
     },
     "metadata": {
      "needs_background": "light"
     },
     "output_type": "display_data"
    },
    {
     "name": "stderr",
     "output_type": "stream",
     "text": [
      "c:\\ProgramData\\Anaconda3\\lib\\site-packages\\seaborn\\distributions.py:2619: FutureWarning: `distplot` is a deprecated function and will be removed in a future version. Please adapt your code to use either `displot` (a figure-level function with similar flexibility) or `histplot` (an axes-level function for histograms).\n",
      "  warnings.warn(msg, FutureWarning)\n"
     ]
    },
    {
     "data": {
      "image/png": "[encoded data removed]",
      "text/plain": [
       "<Figure size 432x288 with 1 Axes>"
      ]
     },
     "metadata": {
      "needs_background": "light"
     },
     "output_type": "display_data"
    },
    {
     "name": "stderr",
     "output_type": "stream",
     "text": [
      "c:\\ProgramData\\Anaconda3\\lib\\site-packages\\seaborn\\distributions.py:2619: FutureWarning: `distplot` is a deprecated function and will be removed in a future version. Please adapt your code to use either `displot` (a figure-level function with similar flexibility) or `histplot` (an axes-level function for histograms).\n",
      "  warnings.warn(msg, FutureWarning)\n"
     ]
    },
    {
     "data": {
      "image/png": "[encoded data removed]",
      "text/plain": [
       "<Figure size 432x288 with 1 Axes>"
      ]
     },
     "metadata": {
      "needs_background": "light"
     },
     "output_type": "display_data"
    },
    {
     "name": "stderr",
     "output_type": "stream",
     "text": [
      "c:\\ProgramData\\Anaconda3\\lib\\site-packages\\seaborn\\distributions.py:2619: FutureWarning: `distplot` is a deprecated function and will be removed in a future version. Please adapt your code to use either `displot` (a figure-level function with similar flexibility) or `histplot` (an axes-level function for histograms).\n",
      "  warnings.warn(msg, FutureWarning)\n"
     ]
    },
    {
     "data": {
      "image/png": "[encoded data removed]",
      "text/plain": [
       "<Figure size 432x288 with 1 Axes>"
      ]
     },
     "metadata": {
      "needs_background": "light"
     },
     "output_type": "display_data"
    }
   ],
   "source": [
    "columns = [\"price\",\"Year of manufacture\", \"Mileage\", \"Engine Size\"]\n",
    "\n",
    "for column in columns:\n",
    "    sns.distplot(np.log(copy_data[column]))\n",
    "    plt.show()  \n"
   ]
  },
  {
   "cell_type": "code",
   "execution_count": 71,
   "metadata": {},
   "outputs": [
    {
     "name": "stdout",
     "output_type": "stream",
     "text": [
      "                     price  Year of manufacture  Mileage  Engine Size  Seats  \\\n",
      "price                1.000                0.546   -0.301        0.002  0.088   \n",
      "Year of manufacture  0.546                1.000   -0.420        0.002 -0.058   \n",
      "Mileage             -0.301               -0.420    1.000       -0.009  0.008   \n",
      "Engine Size          0.002                0.002   -0.009        1.000  0.339   \n",
      "Seats                0.088               -0.058    0.008        0.339  1.000   \n",
      "Number of Cylinders  0.206               -0.103   -0.004        0.838  0.376   \n",
      "Horse Power          0.404                0.201   -0.113        0.837  0.313   \n",
      "\n",
      "                     Number of Cylinders  Horse Power  \n",
      "price                              0.206        0.404  \n",
      "Year of manufacture               -0.103        0.201  \n",
      "Mileage                           -0.004       -0.113  \n",
      "Engine Size                        0.838        0.837  \n",
      "Seats                              0.376        0.313  \n",
      "Number of Cylinders                1.000        0.843  \n",
      "Horse Power                        0.843        1.000  \n"
     ]
    }
   ],
   "source": [
    "## CORELLATION\n",
    "numerical_columns = copy_data.select_dtypes(include = ['int64', 'float64'])\n",
    "correlation_columns = numerical_columns.corr()\n",
    "print(correlation_columns)"
   ]
  },
  {
   "cell_type": "code",
   "execution_count": 72,
   "metadata": {},
   "outputs": [
    {
     "name": "stdout",
     "output_type": "stream",
     "text": [
      "                     price  Year of manufacture  Mileage  Engine Size  Seats  \\\n",
      "price                1.000                0.685   -0.286        0.112  0.065   \n",
      "Year of manufacture  0.685                1.000   -0.362       -0.025 -0.060   \n",
      "Mileage             -0.286               -0.362    1.000       -0.007 -0.012   \n",
      "Engine Size          0.112               -0.025   -0.007        1.000  0.319   \n",
      "Seats                0.065               -0.060   -0.012        0.319  1.000   \n",
      "Number of Cylinders  0.223               -0.108    0.012        0.823  0.363   \n",
      "Horse Power          0.431                0.214   -0.093        0.853  0.310   \n",
      "\n",
      "                     Number of Cylinders  Horse Power  \n",
      "price                              0.223        0.431  \n",
      "Year of manufacture               -0.108        0.214  \n",
      "Mileage                            0.012       -0.093  \n",
      "Engine Size                        0.823        0.853  \n",
      "Seats                              0.363        0.310  \n",
      "Number of Cylinders                1.000        0.831  \n",
      "Horse Power                        0.831        1.000  \n"
     ]
    }
   ],
   "source": [
    "## CORELLATION WITH LOG\n",
    "numerical_columns = copy_data.select_dtypes(include = ['int64', 'float64'])\n",
    "correlation_columns = np.log(numerical_columns).corr()\n",
    "print(correlation_columns)"
   ]
  },
  {
   "cell_type": "code",
   "execution_count": 73,
   "metadata": {},
   "outputs": [],
   "source": [
    "## remove engine size\n",
    "## remove seats\n",
    "## Add power/cylinder\n",
    "## Log all numerical values"
   ]
  },
  {
   "cell_type": "markdown",
   "metadata": {},
   "source": [
    "### PREPARING THE DATA"
   ]
  },
  {
   "cell_type": "code",
   "execution_count": 74,
   "metadata": {},
   "outputs": [
    {
     "name": "stdout",
     "output_type": "stream",
     "text": [
      "3120  column car_id\n",
      "4  column fuel type\n",
      "3  column gear type\n",
      "50  column Make\n",
      "325  column Model\n",
      "18  column Colour\n",
      "3  column Condition\n",
      "3  column Selling Condition\n",
      "3  column Bought Condition\n",
      "15  column car\n",
      "388  column Trim\n",
      "6  column Drivetrain\n",
      "71  column Registered city\n"
     ]
    }
   ],
   "source": [
    "object_columns = car_data.select_dtypes(exclude=['int64', 'float64'])\n",
    "for column in object_columns:\n",
    "    print(f\"{car_data[column].nunique()}  column {column}\")\n",
    "\n"
   ]
  },
  {
   "cell_type": "code",
   "execution_count": 75,
   "metadata": {},
   "outputs": [],
   "source": [
    "\n",
    "def fill_in_object_value(column_list, data):\n",
    "    for column_name in column_list:\n",
    "        try:\n",
    "            mode = data[column_name].mode()[0]\n",
    "            data[column_name].fillna(mode, inplace = True)\n",
    "        except IndexError:\n",
    "           continue\n",
    "    return data\n",
    "def fill_in_numeric_value(column_list, data):\n",
    "    for column_name in column_list:\n",
    "\n",
    "        try:\n",
    "            mean_value = data[column_name].mean()\n",
    "            data[column_name].fillna(mean_value, inplace=True) \n",
    "             \n",
    "        except IndexError:\n",
    "            continue\n",
    "\n",
    "    \n",
    "    return data\n",
    "def remove_column(data, column_list=[]):\n",
    "    for column in column_list:\n",
    "        try:\n",
    "            data.drop(column, axis=1, inplace =True)\n",
    "        except KeyError:\n",
    "            continue\n",
    "    return data\n",
    "        \n",
    "def decompose_object(column_name, data):\n",
    "\n",
    "    data[column_name] = data[column_name].astype(str)\n",
    "\n",
    "    label_binarizer = LabelBinarizer()\n",
    "    one_hot_encoded = label_binarizer.fit_transform(data[column_name])\n",
    "\n",
    "    encoded_columns = [f'encoded_{class_}' for class_ in label_binarizer.classes_]\n",
    "    df_encoded = pd.DataFrame(one_hot_encoded, columns=encoded_columns)\n",
    "\n",
    "    df_final = pd.concat([data, df_encoded], axis=1)\n",
    "\n",
    "    return df_final\n",
    "\n",
    "def aggregate_features(data ):\n",
    "    data[\"power/cylinder\"] = data[\"Horse Power\"]/ data[\"Number of Cylinders\"]\n",
    "    return data\n",
    "\n",
    "\n",
    "def log_feature(column_list, data):\n",
    "    for column in column_list:\n",
    "        data[column] = np.log(data[column])\n",
    "    return data\n",
    "\n",
    "\n",
    "def prepare_scale_binarizer (numerical_columns, object_columns, data):\n",
    "    scaled_column = standard_scaler.fit_transform(numerical_columns)\n",
    "    scaled_numeric_df = pd.DataFrame(scaled_column, columns = numerical_columns.columns)\n",
    "\n",
    "\n",
    "    binarized_labels_dfs = []\n",
    "    for col in object_columns.columns:\n",
    "        binarized_label = label_binarizer.fit_transform(object_columns[col])\n",
    "        binarized_labels_df = pd.DataFrame(binarized_label, columns=label_binarizer.classes_)\n",
    "        binarized_labels_dfs.append(binarized_labels_df)\n",
    "\n",
    "    concatenated_dataframe = pd.concat([scaled_numeric_df] + binarized_labels_dfs, axis=1)\n",
    "    return concatenated_dataframe\n",
    "    \n"
   ]
  },
  {
   "cell_type": "code",
   "execution_count": 76,
   "metadata": {},
   "outputs": [],
   "source": [
    "car_details = car_data.copy()\n",
    "column_to_log = ['price']\n",
    "car_details = log_feature(column_to_log, car_details)\n",
    "\n",
    "missing_columns_object = [\"fuel type\", 'gear type', ]\n",
    "car_details = fill_in_object_value(missing_columns_object, car_details)\n",
    "\n",
    "\n",
    "missing_column_numerical = [\"Mileage\", \"Horse Power\", \"Number of Cylinders\"]\n",
    "car_details = fill_in_numeric_value(missing_column_numerical, car_details)\n",
    "\n",
    "column_to_drop = ['car_id', 'car', 'Trim','Drivetrain','Seats','Registered city','Engine Size','cylinder/pw]','Model','Make','Colour']\n",
    "car_details = remove_column(car_details, column_to_drop)\n",
    "\n",
    "\n",
    "car_details = aggregate_features(car_details)\n",
    "\n",
    "numerical_columns = car_details.select_dtypes(include= ['int64', 'float64'])\n",
    "object_columns = car_details.select_dtypes(exclude=['int64', 'float64'])\n",
    "car_details = prepare_scale_binarizer(numerical_columns, object_columns, car_details)\n"
   ]
  },
  {
   "cell_type": "code",
   "execution_count": 77,
   "metadata": {},
   "outputs": [
    {
     "data": {
      "text/html": [
       "<div>\n",
       "<style scoped>\n",
       "    .dataframe tbody tr th:only-of-type {\n",
       "        vertical-align: middle;\n",
       "    }\n",
       "\n",
       "    .dataframe tbody tr th {\n",
       "        vertical-align: top;\n",
       "    }\n",
       "\n",
       "    .dataframe thead th {\n",
       "        text-align: right;\n",
       "    }\n",
       "</style>\n",
       "<table border=\"1\" class=\"dataframe\">\n",
       "  <thead>\n",
       "    <tr style=\"text-align: right;\">\n",
       "      <th></th>\n",
       "      <th>price</th>\n",
       "      <th>Year of manufacture</th>\n",
       "      <th>Mileage</th>\n",
       "      <th>Number of Cylinders</th>\n",
       "      <th>Horse Power</th>\n",
       "      <th>power/cylinder</th>\n",
       "      <th>Diesel</th>\n",
       "      <th>Electric</th>\n",
       "      <th>Hybrid</th>\n",
       "      <th>Petrol</th>\n",
       "      <th>...</th>\n",
       "      <th>Manual</th>\n",
       "      <th>Brand New</th>\n",
       "      <th>Foreign Used</th>\n",
       "      <th>Nigerian Used</th>\n",
       "      <th>Brand new</th>\n",
       "      <th>Imported</th>\n",
       "      <th>Registered</th>\n",
       "      <th>Brand new</th>\n",
       "      <th>Imported</th>\n",
       "      <th>Registered</th>\n",
       "    </tr>\n",
       "  </thead>\n",
       "  <tbody>\n",
       "    <tr>\n",
       "      <th>0</th>\n",
       "      <td>-0.374</td>\n",
       "      <td>-0.986</td>\n",
       "      <td>0.410</td>\n",
       "      <td>0.000</td>\n",
       "      <td>0.000</td>\n",
       "      <td>0.012</td>\n",
       "      <td>0</td>\n",
       "      <td>0</td>\n",
       "      <td>0</td>\n",
       "      <td>1</td>\n",
       "      <td>...</td>\n",
       "      <td>0</td>\n",
       "      <td>0</td>\n",
       "      <td>0</td>\n",
       "      <td>1</td>\n",
       "      <td>0</td>\n",
       "      <td>0</td>\n",
       "      <td>1</td>\n",
       "      <td>0</td>\n",
       "      <td>0</td>\n",
       "      <td>1</td>\n",
       "    </tr>\n",
       "    <tr>\n",
       "      <th>1</th>\n",
       "      <td>0.532</td>\n",
       "      <td>-0.272</td>\n",
       "      <td>0.214</td>\n",
       "      <td>0.000</td>\n",
       "      <td>0.000</td>\n",
       "      <td>0.012</td>\n",
       "      <td>0</td>\n",
       "      <td>0</td>\n",
       "      <td>0</td>\n",
       "      <td>1</td>\n",
       "      <td>...</td>\n",
       "      <td>0</td>\n",
       "      <td>0</td>\n",
       "      <td>1</td>\n",
       "      <td>0</td>\n",
       "      <td>0</td>\n",
       "      <td>1</td>\n",
       "      <td>0</td>\n",
       "      <td>0</td>\n",
       "      <td>1</td>\n",
       "      <td>0</td>\n",
       "    </tr>\n",
       "    <tr>\n",
       "      <th>2</th>\n",
       "      <td>1.190</td>\n",
       "      <td>0.917</td>\n",
       "      <td>-0.604</td>\n",
       "      <td>1.488</td>\n",
       "      <td>3.137</td>\n",
       "      <td>2.851</td>\n",
       "      <td>0</td>\n",
       "      <td>0</td>\n",
       "      <td>0</td>\n",
       "      <td>1</td>\n",
       "      <td>...</td>\n",
       "      <td>0</td>\n",
       "      <td>0</td>\n",
       "      <td>1</td>\n",
       "      <td>0</td>\n",
       "      <td>0</td>\n",
       "      <td>1</td>\n",
       "      <td>0</td>\n",
       "      <td>0</td>\n",
       "      <td>1</td>\n",
       "      <td>0</td>\n",
       "    </tr>\n",
       "    <tr>\n",
       "      <th>3</th>\n",
       "      <td>1.605</td>\n",
       "      <td>0.917</td>\n",
       "      <td>-0.883</td>\n",
       "      <td>0.000</td>\n",
       "      <td>0.000</td>\n",
       "      <td>0.012</td>\n",
       "      <td>0</td>\n",
       "      <td>0</td>\n",
       "      <td>0</td>\n",
       "      <td>1</td>\n",
       "      <td>...</td>\n",
       "      <td>0</td>\n",
       "      <td>0</td>\n",
       "      <td>0</td>\n",
       "      <td>1</td>\n",
       "      <td>0</td>\n",
       "      <td>0</td>\n",
       "      <td>1</td>\n",
       "      <td>0</td>\n",
       "      <td>1</td>\n",
       "      <td>0</td>\n",
       "    </tr>\n",
       "    <tr>\n",
       "      <th>4</th>\n",
       "      <td>0.243</td>\n",
       "      <td>1.154</td>\n",
       "      <td>-0.743</td>\n",
       "      <td>0.000</td>\n",
       "      <td>0.000</td>\n",
       "      <td>0.012</td>\n",
       "      <td>0</td>\n",
       "      <td>0</td>\n",
       "      <td>0</td>\n",
       "      <td>1</td>\n",
       "      <td>...</td>\n",
       "      <td>0</td>\n",
       "      <td>0</td>\n",
       "      <td>0</td>\n",
       "      <td>1</td>\n",
       "      <td>0</td>\n",
       "      <td>0</td>\n",
       "      <td>1</td>\n",
       "      <td>0</td>\n",
       "      <td>0</td>\n",
       "      <td>1</td>\n",
       "    </tr>\n",
       "    <tr>\n",
       "      <th>...</th>\n",
       "      <td>...</td>\n",
       "      <td>...</td>\n",
       "      <td>...</td>\n",
       "      <td>...</td>\n",
       "      <td>...</td>\n",
       "      <td>...</td>\n",
       "      <td>...</td>\n",
       "      <td>...</td>\n",
       "      <td>...</td>\n",
       "      <td>...</td>\n",
       "      <td>...</td>\n",
       "      <td>...</td>\n",
       "      <td>...</td>\n",
       "      <td>...</td>\n",
       "      <td>...</td>\n",
       "      <td>...</td>\n",
       "      <td>...</td>\n",
       "      <td>...</td>\n",
       "      <td>...</td>\n",
       "      <td>...</td>\n",
       "      <td>...</td>\n",
       "    </tr>\n",
       "    <tr>\n",
       "      <th>3717</th>\n",
       "      <td>-0.972</td>\n",
       "      <td>-1.224</td>\n",
       "      <td>0.634</td>\n",
       "      <td>-2.044</td>\n",
       "      <td>0.000</td>\n",
       "      <td>3.034</td>\n",
       "      <td>0</td>\n",
       "      <td>0</td>\n",
       "      <td>0</td>\n",
       "      <td>1</td>\n",
       "      <td>...</td>\n",
       "      <td>0</td>\n",
       "      <td>0</td>\n",
       "      <td>0</td>\n",
       "      <td>1</td>\n",
       "      <td>0</td>\n",
       "      <td>0</td>\n",
       "      <td>1</td>\n",
       "      <td>0</td>\n",
       "      <td>1</td>\n",
       "      <td>0</td>\n",
       "    </tr>\n",
       "    <tr>\n",
       "      <th>3718</th>\n",
       "      <td>-1.000</td>\n",
       "      <td>-1.462</td>\n",
       "      <td>-0.090</td>\n",
       "      <td>1.488</td>\n",
       "      <td>0.193</td>\n",
       "      <td>-1.189</td>\n",
       "      <td>0</td>\n",
       "      <td>0</td>\n",
       "      <td>0</td>\n",
       "      <td>1</td>\n",
       "      <td>...</td>\n",
       "      <td>0</td>\n",
       "      <td>0</td>\n",
       "      <td>0</td>\n",
       "      <td>1</td>\n",
       "      <td>0</td>\n",
       "      <td>0</td>\n",
       "      <td>1</td>\n",
       "      <td>0</td>\n",
       "      <td>0</td>\n",
       "      <td>1</td>\n",
       "    </tr>\n",
       "    <tr>\n",
       "      <th>3719</th>\n",
       "      <td>-1.775</td>\n",
       "      <td>-1.937</td>\n",
       "      <td>0.284</td>\n",
       "      <td>-2.044</td>\n",
       "      <td>-2.281</td>\n",
       "      <td>-1.661</td>\n",
       "      <td>0</td>\n",
       "      <td>0</td>\n",
       "      <td>0</td>\n",
       "      <td>1</td>\n",
       "      <td>...</td>\n",
       "      <td>0</td>\n",
       "      <td>0</td>\n",
       "      <td>0</td>\n",
       "      <td>1</td>\n",
       "      <td>0</td>\n",
       "      <td>0</td>\n",
       "      <td>1</td>\n",
       "      <td>0</td>\n",
       "      <td>0</td>\n",
       "      <td>1</td>\n",
       "    </tr>\n",
       "    <tr>\n",
       "      <th>3720</th>\n",
       "      <td>-1.638</td>\n",
       "      <td>-1.699</td>\n",
       "      <td>1.090</td>\n",
       "      <td>0.000</td>\n",
       "      <td>0.000</td>\n",
       "      <td>0.012</td>\n",
       "      <td>0</td>\n",
       "      <td>0</td>\n",
       "      <td>0</td>\n",
       "      <td>1</td>\n",
       "      <td>...</td>\n",
       "      <td>0</td>\n",
       "      <td>0</td>\n",
       "      <td>0</td>\n",
       "      <td>1</td>\n",
       "      <td>0</td>\n",
       "      <td>0</td>\n",
       "      <td>1</td>\n",
       "      <td>0</td>\n",
       "      <td>0</td>\n",
       "      <td>1</td>\n",
       "    </tr>\n",
       "    <tr>\n",
       "      <th>3721</th>\n",
       "      <td>-1.015</td>\n",
       "      <td>-0.272</td>\n",
       "      <td>-0.756</td>\n",
       "      <td>0.000</td>\n",
       "      <td>0.000</td>\n",
       "      <td>0.012</td>\n",
       "      <td>0</td>\n",
       "      <td>0</td>\n",
       "      <td>0</td>\n",
       "      <td>1</td>\n",
       "      <td>...</td>\n",
       "      <td>0</td>\n",
       "      <td>0</td>\n",
       "      <td>0</td>\n",
       "      <td>1</td>\n",
       "      <td>0</td>\n",
       "      <td>0</td>\n",
       "      <td>1</td>\n",
       "      <td>0</td>\n",
       "      <td>0</td>\n",
       "      <td>1</td>\n",
       "    </tr>\n",
       "  </tbody>\n",
       "</table>\n",
       "<p>3722 rows × 22 columns</p>\n",
       "</div>"
      ],
      "text/plain": [
       "      price  Year of manufacture  Mileage  Number of Cylinders  Horse Power  \\\n",
       "0    -0.374               -0.986    0.410                0.000        0.000   \n",
       "1     0.532               -0.272    0.214                0.000        0.000   \n",
       "2     1.190                0.917   -0.604                1.488        3.137   \n",
       "3     1.605                0.917   -0.883                0.000        0.000   \n",
       "4     0.243                1.154   -0.743                0.000        0.000   \n",
       "...     ...                  ...      ...                  ...          ...   \n",
       "3717 -0.972               -1.224    0.634               -2.044        0.000   \n",
       "3718 -1.000               -1.462   -0.090                1.488        0.193   \n",
       "3719 -1.775               -1.937    0.284               -2.044       -2.281   \n",
       "3720 -1.638               -1.699    1.090                0.000        0.000   \n",
       "3721 -1.015               -0.272   -0.756                0.000        0.000   \n",
       "\n",
       "      power/cylinder  Diesel  Electric  Hybrid  Petrol  ...  Manual  \\\n",
       "0              0.012       0         0       0       1  ...       0   \n",
       "1              0.012       0         0       0       1  ...       0   \n",
       "2              2.851       0         0       0       1  ...       0   \n",
       "3              0.012       0         0       0       1  ...       0   \n",
       "4              0.012       0         0       0       1  ...       0   \n",
       "...              ...     ...       ...     ...     ...  ...     ...   \n",
       "3717           3.034       0         0       0       1  ...       0   \n",
       "3718          -1.189       0         0       0       1  ...       0   \n",
       "3719          -1.661       0         0       0       1  ...       0   \n",
       "3720           0.012       0         0       0       1  ...       0   \n",
       "3721           0.012       0         0       0       1  ...       0   \n",
       "\n",
       "      Brand New  Foreign Used  Nigerian Used  Brand new  Imported  Registered  \\\n",
       "0             0             0              1          0         0           1   \n",
       "1             0             1              0          0         1           0   \n",
       "2             0             1              0          0         1           0   \n",
       "3             0             0              1          0         0           1   \n",
       "4             0             0              1          0         0           1   \n",
       "...         ...           ...            ...        ...       ...         ...   \n",
       "3717          0             0              1          0         0           1   \n",
       "3718          0             0              1          0         0           1   \n",
       "3719          0             0              1          0         0           1   \n",
       "3720          0             0              1          0         0           1   \n",
       "3721          0             0              1          0         0           1   \n",
       "\n",
       "      Brand new  Imported  Registered  \n",
       "0             0         0           1  \n",
       "1             0         1           0  \n",
       "2             0         1           0  \n",
       "3             0         1           0  \n",
       "4             0         0           1  \n",
       "...         ...       ...         ...  \n",
       "3717          0         1           0  \n",
       "3718          0         0           1  \n",
       "3719          0         0           1  \n",
       "3720          0         0           1  \n",
       "3721          0         0           1  \n",
       "\n",
       "[3722 rows x 22 columns]"
      ]
     },
     "execution_count": 77,
     "metadata": {},
     "output_type": "execute_result"
    }
   ],
   "source": [
    "car_details"
   ]
  },
  {
   "cell_type": "markdown",
   "metadata": {},
   "source": [
    "### MODEL SELECTIIOIN"
   ]
  },
  {
   "cell_type": "code",
   "execution_count": 78,
   "metadata": {},
   "outputs": [],
   "source": [
    "train_split, test_split = train_test_split(car_details, test_size=0.2, random_state=42)"
   ]
  },
  {
   "cell_type": "code",
   "execution_count": 79,
   "metadata": {},
   "outputs": [],
   "source": [
    "\n",
    "model_data = train_split.copy()\n",
    "y_train = model_data[\"price\"]\n",
    "x_train = model_data.drop('price', axis =1)\n"
   ]
  },
  {
   "cell_type": "code",
   "execution_count": 80,
   "metadata": {},
   "outputs": [
    {
     "name": "stdout",
     "output_type": "stream",
     "text": [
      "sgd 0.6441682469764864\n"
     ]
    },
    {
     "name": "stdout",
     "output_type": "stream",
     "text": [
      "svm 0.6255496440553103\n",
      "forest 0.6302133947299129\n",
      "ada 0.6921502412168618\n",
      "bag 0.6508394470819114\n",
      "extree 0.66315001378773\n",
      "grad 0.609404915466932\n"
     ]
    }
   ],
   "source": [
    "from sklearn.metrics import mean_squared_error, r2_score \n",
    "from sklearn.model_selection import cross_val_score\n",
    "from sklearn.linear_model import SGDRegressor\n",
    "from sklearn.ensemble import RandomForestRegressor\n",
    "from sklearn.tree import DecisionTreeRegressor\n",
    "from sklearn.svm import SVR\n",
    "from sklearn.ensemble import AdaBoostRegressor\n",
    "from sklearn.ensemble import BaggingRegressor\n",
    "from sklearn.ensemble import ExtraTreesRegressor\n",
    "from sklearn.ensemble import GradientBoostingRegressor\n",
    "from sklearn.ensemble import StackingRegressor\n",
    "from sklearn.ensemble import VotingRegressor\n",
    "from sklearn.inspection import permutation_importance\n",
    "\n",
    "\n",
    "\n",
    "models = [('sgd',SGDRegressor()),('svm',SVR()),('forest',RandomForestRegressor()),\n",
    "         ('ada', AdaBoostRegressor()),('bag',BaggingRegressor()),('extree',ExtraTreesRegressor()),\n",
    "          ('grad',GradientBoostingRegressor())]\n",
    "          \n",
    "for i,j in models:\n",
    "    scores = cross_val_score(j, x_train, y_train, scoring='neg_mean_squared_error', cv=10)\n",
    "    rmse = np.sqrt(-scores.mean())\n",
    "    print(i,rmse)"
   ]
  },
  {
   "cell_type": "code",
   "execution_count": 81,
   "metadata": {},
   "outputs": [
    {
     "data": {
      "text/plain": [
       "GradientBoostingRegressor()"
      ]
     },
     "execution_count": 81,
     "metadata": {},
     "output_type": "execute_result"
    }
   ],
   "source": [
    "model = GradientBoostingRegressor()\n",
    "model.fit(x_train,y_train)"
   ]
  },
  {
   "cell_type": "markdown",
   "metadata": {},
   "source": [
    "## Evaluating on test set"
   ]
  },
  {
   "cell_type": "code",
   "execution_count": 82,
   "metadata": {},
   "outputs": [],
   "source": [
    "\n",
    "test_data= test_split.copy()\n",
    "y_test = test_data[\"price\"]\n",
    "x_test = test_data.drop('price', axis =1)"
   ]
  },
  {
   "cell_type": "code",
   "execution_count": 83,
   "metadata": {},
   "outputs": [],
   "source": [
    "y_pred = model.predict(x_test)\n",
    "y_test = y_test.values\n"
   ]
  },
  {
   "cell_type": "code",
   "execution_count": 84,
   "metadata": {},
   "outputs": [],
   "source": [
    "y_test = np.exp(y_test)\n",
    "y_pred = np.exp(y_pred)\n",
    "\n",
    "\n"
   ]
  },
  {
   "cell_type": "code",
   "execution_count": 85,
   "metadata": {},
   "outputs": [
    {
     "data": {
      "text/plain": [
       "2.6812990388255686"
      ]
     },
     "execution_count": 85,
     "metadata": {},
     "output_type": "execute_result"
    }
   ],
   "source": [
    "final_mse = mean_squared_error(y_test, y_pred)\n",
    "final_rmse = np.sqrt(final_mse) \n",
    "final_rmse"
   ]
  },
  {
   "cell_type": "code",
   "execution_count": 86,
   "metadata": {},
   "outputs": [
    {
     "data": {
      "text/plain": [
       "<matplotlib.legend.Legend at 0x11dc32f1220>"
      ]
     },
     "execution_count": 86,
     "metadata": {},
     "output_type": "execute_result"
    },
    {
     "data": {
      "image/png": "[encoded data removed]",
      "text/plain": [
       "<Figure size 432x288 with 1 Axes>"
      ]
     },
     "metadata": {
      "needs_background": "light"
     },
     "output_type": "display_data"
    }
   ],
   "source": [
    "sns.histplot(y_pred, label='prediction',color='red')\n",
    "sns.histplot(y_test, label='actual price')\n",
    "plt.legend()"
   ]
  },
  {
   "cell_type": "code",
   "execution_count": 88,
   "metadata": {},
   "outputs": [
    {
     "data": {
      "text/html": [
       "<div>\n",
       "<style scoped>\n",
       "    .dataframe tbody tr th:only-of-type {\n",
       "        vertical-align: middle;\n",
       "    }\n",
       "\n",
       "    .dataframe tbody tr th {\n",
       "        vertical-align: top;\n",
       "    }\n",
       "\n",
       "    .dataframe thead th {\n",
       "        text-align: right;\n",
       "    }\n",
       "</style>\n",
       "<table border=\"1\" class=\"dataframe\">\n",
       "  <thead>\n",
       "    <tr style=\"text-align: right;\">\n",
       "      <th></th>\n",
       "      <th>Prediction</th>\n",
       "      <th>Target</th>\n",
       "      <th>Difference%</th>\n",
       "    </tr>\n",
       "  </thead>\n",
       "  <tbody>\n",
       "    <tr>\n",
       "      <th>472</th>\n",
       "      <td>1.376</td>\n",
       "      <td>1.377</td>\n",
       "      <td>0.047</td>\n",
       "    </tr>\n",
       "    <tr>\n",
       "      <th>545</th>\n",
       "      <td>1.295</td>\n",
       "      <td>1.294</td>\n",
       "      <td>0.070</td>\n",
       "    </tr>\n",
       "    <tr>\n",
       "      <th>139</th>\n",
       "      <td>0.608</td>\n",
       "      <td>0.608</td>\n",
       "      <td>0.076</td>\n",
       "    </tr>\n",
       "    <tr>\n",
       "      <th>174</th>\n",
       "      <td>0.648</td>\n",
       "      <td>0.647</td>\n",
       "      <td>0.160</td>\n",
       "    </tr>\n",
       "    <tr>\n",
       "      <th>192</th>\n",
       "      <td>0.807</td>\n",
       "      <td>0.810</td>\n",
       "      <td>0.442</td>\n",
       "    </tr>\n",
       "    <tr>\n",
       "      <th>...</th>\n",
       "      <td>...</td>\n",
       "      <td>...</td>\n",
       "      <td>...</td>\n",
       "    </tr>\n",
       "    <tr>\n",
       "      <th>124</th>\n",
       "      <td>1.358</td>\n",
       "      <td>0.276</td>\n",
       "      <td>391.913</td>\n",
       "    </tr>\n",
       "    <tr>\n",
       "      <th>510</th>\n",
       "      <td>4.908</td>\n",
       "      <td>0.911</td>\n",
       "      <td>438.869</td>\n",
       "    </tr>\n",
       "    <tr>\n",
       "      <th>446</th>\n",
       "      <td>8.945</td>\n",
       "      <td>1.558</td>\n",
       "      <td>474.130</td>\n",
       "    </tr>\n",
       "    <tr>\n",
       "      <th>513</th>\n",
       "      <td>2.562</td>\n",
       "      <td>0.401</td>\n",
       "      <td>539.343</td>\n",
       "    </tr>\n",
       "    <tr>\n",
       "      <th>39</th>\n",
       "      <td>0.943</td>\n",
       "      <td>0.105</td>\n",
       "      <td>801.950</td>\n",
       "    </tr>\n",
       "  </tbody>\n",
       "</table>\n",
       "<p>745 rows × 3 columns</p>\n",
       "</div>"
      ],
      "text/plain": [
       "     Prediction  Target  Difference%\n",
       "472       1.376   1.377        0.047\n",
       "545       1.295   1.294        0.070\n",
       "139       0.608   0.608        0.076\n",
       "174       0.648   0.647        0.160\n",
       "192       0.807   0.810        0.442\n",
       "..          ...     ...          ...\n",
       "124       1.358   0.276      391.913\n",
       "510       4.908   0.911      438.869\n",
       "446       8.945   1.558      474.130\n",
       "513       2.562   0.401      539.343\n",
       "39        0.943   0.105      801.950\n",
       "\n",
       "[745 rows x 3 columns]"
      ]
     },
     "execution_count": 88,
     "metadata": {},
     "output_type": "execute_result"
    }
   ],
   "source": [
    "df_pred = pd.DataFrame(y_pred, columns=['Prediction'])\n",
    "df_pred['Target'] = y_test\n",
    "df_pred['Difference%'] = np.absolute((df_pred['Target'] - df_pred['Prediction'])/df_pred['Target']*100)\n",
    "pd.set_option('display.float_format', lambda x: '%.3f' % x)\n",
    "df_pred = df_pred.sort_values(by=['Difference%'])\n",
    "df_pred"
   ]
  },
  {
   "cell_type": "code",
   "execution_count": null,
   "metadata": {},
   "outputs": [],
   "source": []
  }
 ],
 "metadata": {
  "kernelspec": {
   "display_name": "Python 3 (ipykernel)",
   "language": "python",
   "name": "python3"
  },
  "language_info": {
   "codemirror_mode": {
    "name": "ipython",
    "version": 3
   },
   "file_extension": ".py",
   "mimetype": "text/x-python",
   "name": "python",
   "nbconvert_exporter": "python",
   "pygments_lexer": "ipython3",
   "version": "3.9.12"
  },
  "orig_nbformat": 4
 },
 "nbformat": 4,
 "nbformat_minor": 2
}
